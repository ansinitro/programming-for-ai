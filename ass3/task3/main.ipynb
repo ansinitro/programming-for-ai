{
 "cells": [
  {
   "cell_type": "markdown",
   "id": "d7378f23",
   "metadata": {},
   "source": [
    "# Step 1. Data collection"
   ]
  },
  {
   "cell_type": "code",
   "execution_count": 27,
   "id": "0e6d287d",
   "metadata": {},
   "outputs": [],
   "source": [
    "import kagglehub\n",
    "import pandas as pd\n",
    "from pathlib import Path"
   ]
  },
  {
   "cell_type": "code",
   "execution_count": 28,
   "id": "f71ad2c4",
   "metadata": {},
   "outputs": [
    {
     "name": "stdout",
     "output_type": "stream",
     "text": [
      "                Artist               Genres  Songs  Popularity  \\\n",
      "0        Ivete Sangalo  Pop; Axé; Romântico  313.0         4.4   \n",
      "1  Chiclete com Banana                  Axé  268.0         3.8   \n",
      "\n",
      "                    Link  \n",
      "0        /ivete-sangalo/  \n",
      "1  /chiclete-com-banana/  \n"
     ]
    },
    {
     "data": {
      "text/html": [
       "<div>\n",
       "<style scoped>\n",
       "    .dataframe tbody tr th:only-of-type {\n",
       "        vertical-align: middle;\n",
       "    }\n",
       "\n",
       "    .dataframe tbody tr th {\n",
       "        vertical-align: top;\n",
       "    }\n",
       "\n",
       "    .dataframe thead th {\n",
       "        text-align: right;\n",
       "    }\n",
       "</style>\n",
       "<table border=\"1\" class=\"dataframe\">\n",
       "  <thead>\n",
       "    <tr style=\"text-align: right;\">\n",
       "      <th></th>\n",
       "      <th>ALink</th>\n",
       "      <th>SName</th>\n",
       "      <th>SLink</th>\n",
       "      <th>Lyric</th>\n",
       "      <th>language</th>\n",
       "    </tr>\n",
       "  </thead>\n",
       "  <tbody>\n",
       "    <tr>\n",
       "      <th>0</th>\n",
       "      <td>/ivete-sangalo/</td>\n",
       "      <td>Arerê</td>\n",
       "      <td>/ivete-sangalo/arere.html</td>\n",
       "      <td>Tudo o que eu quero nessa vida,\\nToda vida, é\\...</td>\n",
       "      <td>pt</td>\n",
       "    </tr>\n",
       "    <tr>\n",
       "      <th>1</th>\n",
       "      <td>/ivete-sangalo/</td>\n",
       "      <td>Se Eu Não Te Amasse Tanto Assim</td>\n",
       "      <td>/ivete-sangalo/se-eu-nao-te-amasse-tanto-assim...</td>\n",
       "      <td>Meu coração\\nSem direção\\nVoando só por voar\\n...</td>\n",
       "      <td>pt</td>\n",
       "    </tr>\n",
       "    <tr>\n",
       "      <th>2</th>\n",
       "      <td>/ivete-sangalo/</td>\n",
       "      <td>Céu da Boca</td>\n",
       "      <td>/ivete-sangalo/chupa-toda.html</td>\n",
       "      <td>É de babaixá!\\nÉ de balacubaca!\\nÉ de babaixá!...</td>\n",
       "      <td>pt</td>\n",
       "    </tr>\n",
       "    <tr>\n",
       "      <th>3</th>\n",
       "      <td>/ivete-sangalo/</td>\n",
       "      <td>Quando A Chuva Passar</td>\n",
       "      <td>/ivete-sangalo/quando-a-chuva-passar.html</td>\n",
       "      <td>Quando a chuva passar\\n\\nPra quê falar\\nSe voc...</td>\n",
       "      <td>pt</td>\n",
       "    </tr>\n",
       "    <tr>\n",
       "      <th>4</th>\n",
       "      <td>/ivete-sangalo/</td>\n",
       "      <td>Sorte Grande</td>\n",
       "      <td>/ivete-sangalo/sorte-grande.html</td>\n",
       "      <td>A minha sorte grande foi você cair do céu\\nMin...</td>\n",
       "      <td>pt</td>\n",
       "    </tr>\n",
       "  </tbody>\n",
       "</table>\n",
       "</div>"
      ],
      "text/plain": [
       "             ALink                            SName  \\\n",
       "0  /ivete-sangalo/                            Arerê   \n",
       "1  /ivete-sangalo/  Se Eu Não Te Amasse Tanto Assim   \n",
       "2  /ivete-sangalo/                      Céu da Boca   \n",
       "3  /ivete-sangalo/            Quando A Chuva Passar   \n",
       "4  /ivete-sangalo/                     Sorte Grande   \n",
       "\n",
       "                                               SLink  \\\n",
       "0                          /ivete-sangalo/arere.html   \n",
       "1  /ivete-sangalo/se-eu-nao-te-amasse-tanto-assim...   \n",
       "2                     /ivete-sangalo/chupa-toda.html   \n",
       "3          /ivete-sangalo/quando-a-chuva-passar.html   \n",
       "4                   /ivete-sangalo/sorte-grande.html   \n",
       "\n",
       "                                               Lyric language  \n",
       "0  Tudo o que eu quero nessa vida,\\nToda vida, é\\...       pt  \n",
       "1  Meu coração\\nSem direção\\nVoando só por voar\\n...       pt  \n",
       "2  É de babaixá!\\nÉ de balacubaca!\\nÉ de babaixá!...       pt  \n",
       "3  Quando a chuva passar\\n\\nPra quê falar\\nSe voc...       pt  \n",
       "4  A minha sorte grande foi você cair do céu\\nMin...       pt  "
      ]
     },
     "execution_count": 28,
     "metadata": {},
     "output_type": "execute_result"
    }
   ],
   "source": [
    "path = kagglehub.dataset_download(\"neisse/scrapped-lyrics-from-6-genres\")\n",
    "datasets_path = Path(path)\n",
    "\n",
    "artists_data_path = datasets_path / \"artists-data.csv\"\n",
    "lyrics_data_path = datasets_path / \"lyrics-data.csv\"\n",
    "\n",
    "lyrics_df = pd.read_csv(lyrics_data_path)\n",
    "artists_df = pd.read_csv(artists_data_path)\n",
    "print(artists_df.head(2))\n",
    "lyrics_df.head()"
   ]
  },
  {
   "cell_type": "code",
   "execution_count": 29,
   "id": "627e18c4",
   "metadata": {},
   "outputs": [
    {
     "name": "stdout",
     "output_type": "stream",
     "text": [
      "Total English songs: 191814\n"
     ]
    },
    {
     "data": {
      "text/html": [
       "<div>\n",
       "<style scoped>\n",
       "    .dataframe tbody tr th:only-of-type {\n",
       "        vertical-align: middle;\n",
       "    }\n",
       "\n",
       "    .dataframe tbody tr th {\n",
       "        vertical-align: top;\n",
       "    }\n",
       "\n",
       "    .dataframe thead th {\n",
       "        text-align: right;\n",
       "    }\n",
       "</style>\n",
       "<table border=\"1\" class=\"dataframe\">\n",
       "  <thead>\n",
       "    <tr style=\"text-align: right;\">\n",
       "      <th></th>\n",
       "      <th>ALink</th>\n",
       "      <th>SName</th>\n",
       "      <th>SLink</th>\n",
       "      <th>Lyric</th>\n",
       "      <th>language</th>\n",
       "    </tr>\n",
       "  </thead>\n",
       "  <tbody>\n",
       "    <tr>\n",
       "      <th>69</th>\n",
       "      <td>/ivete-sangalo/</td>\n",
       "      <td>Careless Whisper</td>\n",
       "      <td>/ivete-sangalo/careless-whisper.html</td>\n",
       "      <td>I feel so unsure\\nAs I take your hand and lead...</td>\n",
       "      <td>en</td>\n",
       "    </tr>\n",
       "    <tr>\n",
       "      <th>86</th>\n",
       "      <td>/ivete-sangalo/</td>\n",
       "      <td>Could You Be Loved / Citação Musical do Rap: S...</td>\n",
       "      <td>/ivete-sangalo/could-you-be-loved-citacao-musi...</td>\n",
       "      <td>Don't let them fool, ya\\nOr even try to school...</td>\n",
       "      <td>en</td>\n",
       "    </tr>\n",
       "    <tr>\n",
       "      <th>88</th>\n",
       "      <td>/ivete-sangalo/</td>\n",
       "      <td>Cruisin' (Part. Saulo)</td>\n",
       "      <td>/ivete-sangalo/cruisin-part-saulo.html</td>\n",
       "      <td>Baby, let's cruise, away from here\\nDon't be c...</td>\n",
       "      <td>en</td>\n",
       "    </tr>\n",
       "    <tr>\n",
       "      <th>111</th>\n",
       "      <td>/ivete-sangalo/</td>\n",
       "      <td>Easy</td>\n",
       "      <td>/ivete-sangalo/easy.html</td>\n",
       "      <td>Know it sounds funny\\nBut, I just can't stand ...</td>\n",
       "      <td>en</td>\n",
       "    </tr>\n",
       "    <tr>\n",
       "      <th>140</th>\n",
       "      <td>/ivete-sangalo/</td>\n",
       "      <td>For Your Babies (The Voice cover)</td>\n",
       "      <td>/ivete-sangalo/for-your-babies-the-voice-cover...</td>\n",
       "      <td>You've got that look again\\nThe one I hoped I ...</td>\n",
       "      <td>en</td>\n",
       "    </tr>\n",
       "  </tbody>\n",
       "</table>\n",
       "</div>"
      ],
      "text/plain": [
       "               ALink                                              SName  \\\n",
       "69   /ivete-sangalo/                                   Careless Whisper   \n",
       "86   /ivete-sangalo/  Could You Be Loved / Citação Musical do Rap: S...   \n",
       "88   /ivete-sangalo/                             Cruisin' (Part. Saulo)   \n",
       "111  /ivete-sangalo/                                               Easy   \n",
       "140  /ivete-sangalo/                  For Your Babies (The Voice cover)   \n",
       "\n",
       "                                                 SLink  \\\n",
       "69                /ivete-sangalo/careless-whisper.html   \n",
       "86   /ivete-sangalo/could-you-be-loved-citacao-musi...   \n",
       "88              /ivete-sangalo/cruisin-part-saulo.html   \n",
       "111                           /ivete-sangalo/easy.html   \n",
       "140  /ivete-sangalo/for-your-babies-the-voice-cover...   \n",
       "\n",
       "                                                 Lyric language  \n",
       "69   I feel so unsure\\nAs I take your hand and lead...       en  \n",
       "86   Don't let them fool, ya\\nOr even try to school...       en  \n",
       "88   Baby, let's cruise, away from here\\nDon't be c...       en  \n",
       "111  Know it sounds funny\\nBut, I just can't stand ...       en  \n",
       "140  You've got that look again\\nThe one I hoped I ...       en  "
      ]
     },
     "execution_count": 29,
     "metadata": {},
     "output_type": "execute_result"
    }
   ],
   "source": [
    "english_lyrics_df = lyrics_df[lyrics_df['language'] == 'en'].copy()\n",
    "print(f\"Total English songs: {len(english_lyrics_df)}\")\n",
    "english_lyrics_df.head()"
   ]
  },
  {
   "cell_type": "code",
   "execution_count": 30,
   "id": "30fc679b",
   "metadata": {},
   "outputs": [
    {
     "data": {
      "text/html": [
       "<div>\n",
       "<style scoped>\n",
       "    .dataframe tbody tr th:only-of-type {\n",
       "        vertical-align: middle;\n",
       "    }\n",
       "\n",
       "    .dataframe tbody tr th {\n",
       "        vertical-align: top;\n",
       "    }\n",
       "\n",
       "    .dataframe thead th {\n",
       "        text-align: right;\n",
       "    }\n",
       "</style>\n",
       "<table border=\"1\" class=\"dataframe\">\n",
       "  <thead>\n",
       "    <tr style=\"text-align: right;\">\n",
       "      <th></th>\n",
       "      <th>ALink</th>\n",
       "      <th>SName</th>\n",
       "      <th>SLink</th>\n",
       "      <th>Lyric</th>\n",
       "      <th>language</th>\n",
       "      <th>Artist</th>\n",
       "      <th>Genres</th>\n",
       "    </tr>\n",
       "  </thead>\n",
       "  <tbody>\n",
       "    <tr>\n",
       "      <th>0</th>\n",
       "      <td>/ivete-sangalo/</td>\n",
       "      <td>Careless Whisper</td>\n",
       "      <td>/ivete-sangalo/careless-whisper.html</td>\n",
       "      <td>I feel so unsure\\nAs I take your hand and lead...</td>\n",
       "      <td>en</td>\n",
       "      <td>Ivete Sangalo</td>\n",
       "      <td>Pop; Axé; Romântico</td>\n",
       "    </tr>\n",
       "    <tr>\n",
       "      <th>1</th>\n",
       "      <td>/ivete-sangalo/</td>\n",
       "      <td>Could You Be Loved / Citação Musical do Rap: S...</td>\n",
       "      <td>/ivete-sangalo/could-you-be-loved-citacao-musi...</td>\n",
       "      <td>Don't let them fool, ya\\nOr even try to school...</td>\n",
       "      <td>en</td>\n",
       "      <td>Ivete Sangalo</td>\n",
       "      <td>Pop; Axé; Romântico</td>\n",
       "    </tr>\n",
       "    <tr>\n",
       "      <th>2</th>\n",
       "      <td>/ivete-sangalo/</td>\n",
       "      <td>Cruisin' (Part. Saulo)</td>\n",
       "      <td>/ivete-sangalo/cruisin-part-saulo.html</td>\n",
       "      <td>Baby, let's cruise, away from here\\nDon't be c...</td>\n",
       "      <td>en</td>\n",
       "      <td>Ivete Sangalo</td>\n",
       "      <td>Pop; Axé; Romântico</td>\n",
       "    </tr>\n",
       "    <tr>\n",
       "      <th>3</th>\n",
       "      <td>/ivete-sangalo/</td>\n",
       "      <td>Easy</td>\n",
       "      <td>/ivete-sangalo/easy.html</td>\n",
       "      <td>Know it sounds funny\\nBut, I just can't stand ...</td>\n",
       "      <td>en</td>\n",
       "      <td>Ivete Sangalo</td>\n",
       "      <td>Pop; Axé; Romântico</td>\n",
       "    </tr>\n",
       "    <tr>\n",
       "      <th>4</th>\n",
       "      <td>/ivete-sangalo/</td>\n",
       "      <td>For Your Babies (The Voice cover)</td>\n",
       "      <td>/ivete-sangalo/for-your-babies-the-voice-cover...</td>\n",
       "      <td>You've got that look again\\nThe one I hoped I ...</td>\n",
       "      <td>en</td>\n",
       "      <td>Ivete Sangalo</td>\n",
       "      <td>Pop; Axé; Romântico</td>\n",
       "    </tr>\n",
       "  </tbody>\n",
       "</table>\n",
       "</div>"
      ],
      "text/plain": [
       "             ALink                                              SName  \\\n",
       "0  /ivete-sangalo/                                   Careless Whisper   \n",
       "1  /ivete-sangalo/  Could You Be Loved / Citação Musical do Rap: S...   \n",
       "2  /ivete-sangalo/                             Cruisin' (Part. Saulo)   \n",
       "3  /ivete-sangalo/                                               Easy   \n",
       "4  /ivete-sangalo/                  For Your Babies (The Voice cover)   \n",
       "\n",
       "                                               SLink  \\\n",
       "0               /ivete-sangalo/careless-whisper.html   \n",
       "1  /ivete-sangalo/could-you-be-loved-citacao-musi...   \n",
       "2             /ivete-sangalo/cruisin-part-saulo.html   \n",
       "3                           /ivete-sangalo/easy.html   \n",
       "4  /ivete-sangalo/for-your-babies-the-voice-cover...   \n",
       "\n",
       "                                               Lyric language         Artist  \\\n",
       "0  I feel so unsure\\nAs I take your hand and lead...       en  Ivete Sangalo   \n",
       "1  Don't let them fool, ya\\nOr even try to school...       en  Ivete Sangalo   \n",
       "2  Baby, let's cruise, away from here\\nDon't be c...       en  Ivete Sangalo   \n",
       "3  Know it sounds funny\\nBut, I just can't stand ...       en  Ivete Sangalo   \n",
       "4  You've got that look again\\nThe one I hoped I ...       en  Ivete Sangalo   \n",
       "\n",
       "                Genres  \n",
       "0  Pop; Axé; Romântico  \n",
       "1  Pop; Axé; Romântico  \n",
       "2  Pop; Axé; Romântico  \n",
       "3  Pop; Axé; Romântico  \n",
       "4  Pop; Axé; Romântico  "
      ]
     },
     "execution_count": 30,
     "metadata": {},
     "output_type": "execute_result"
    }
   ],
   "source": [
    "# Merge to attach genres and artist names to each lyric\n",
    "merged_df = english_lyrics_df.merge(\n",
    "    artists_df[['Artist', 'Genres', 'Link']],\n",
    "    left_on='ALink',\n",
    "    right_on='Link',\n",
    "    how='left'\n",
    ")\n",
    "\n",
    "# Drop duplicates and unnecessary columns\n",
    "merged_df = merged_df.drop(columns=['Link'])\n",
    "merged_df = merged_df.dropna(subset=['Genres', 'Lyric'])\n",
    "merged_df.head()\n"
   ]
  },
  {
   "cell_type": "code",
   "execution_count": 31,
   "id": "8ff36560",
   "metadata": {},
   "outputs": [
    {
     "data": {
      "text/plain": [
       "Main_Genre\n",
       "Rock                25177\n",
       "Pop                 13759\n",
       "Heavy Metal         13496\n",
       "Indie               12998\n",
       "Rap                  9589\n",
       "Pop/Rock             9019\n",
       "Hip Hop              8412\n",
       "Country              7377\n",
       "Rock Alternativo     5555\n",
       "R&B                  5309\n",
       "Name: count, dtype: int64"
      ]
     },
     "execution_count": 31,
     "metadata": {},
     "output_type": "execute_result"
    }
   ],
   "source": [
    "# Keep only the first listed genre for simplicity\n",
    "merged_df['Main_Genre'] = merged_df['Genres'].apply(lambda x: x.split(';')[0].strip())\n",
    "merged_df['Main_Genre'].value_counts().head(10)\n"
   ]
  },
  {
   "cell_type": "code",
   "execution_count": 33,
   "id": "aee25e4f",
   "metadata": {},
   "outputs": [
    {
     "name": "stdout",
     "output_type": "stream",
     "text": [
      "Main_Genre\n",
      "Country    10\n",
      "Hip Hop    10\n",
      "Pop        10\n",
      "Rock       10\n",
      "Name: count, dtype: int64\n"
     ]
    },
    {
     "name": "stderr",
     "output_type": "stream",
     "text": [
      "/tmp/ipykernel_38355/1508303702.py:6: FutureWarning: DataFrameGroupBy.apply operated on the grouping columns. This behavior is deprecated, and in a future version of pandas the grouping columns will be excluded from the operation. Either pass `include_groups=False` to exclude the groupings or explicitly select the grouping columns after groupby to silence this warning.\n",
      "  .apply(lambda x: x.sample(10, random_state=42))\n"
     ]
    },
    {
     "data": {
      "text/html": [
       "<div>\n",
       "<style scoped>\n",
       "    .dataframe tbody tr th:only-of-type {\n",
       "        vertical-align: middle;\n",
       "    }\n",
       "\n",
       "    .dataframe tbody tr th {\n",
       "        vertical-align: top;\n",
       "    }\n",
       "\n",
       "    .dataframe thead th {\n",
       "        text-align: right;\n",
       "    }\n",
       "</style>\n",
       "<table border=\"1\" class=\"dataframe\">\n",
       "  <thead>\n",
       "    <tr style=\"text-align: right;\">\n",
       "      <th></th>\n",
       "      <th>ALink</th>\n",
       "      <th>SName</th>\n",
       "      <th>SLink</th>\n",
       "      <th>Lyric</th>\n",
       "      <th>language</th>\n",
       "      <th>Artist</th>\n",
       "      <th>Genres</th>\n",
       "      <th>Main_Genre</th>\n",
       "    </tr>\n",
       "  </thead>\n",
       "  <tbody>\n",
       "    <tr>\n",
       "      <th>0</th>\n",
       "      <td>/willie-nelson/</td>\n",
       "      <td>Down In The Everglades</td>\n",
       "      <td>/willie-nelson/down-in-the-everglades.html</td>\n",
       "      <td>Theres a boat race down the river\\nTheres a sl...</td>\n",
       "      <td>en</td>\n",
       "      <td>Willie Nelson</td>\n",
       "      <td>Country</td>\n",
       "      <td>Country</td>\n",
       "    </tr>\n",
       "    <tr>\n",
       "      <th>1</th>\n",
       "      <td>/george-strait/</td>\n",
       "      <td>She Took The Wind From His Sails</td>\n",
       "      <td>/george-strait/s.html</td>\n",
       "      <td>Outer banks of North Carolina\\nLies a sleepy h...</td>\n",
       "      <td>en</td>\n",
       "      <td>George Strait</td>\n",
       "      <td>Country</td>\n",
       "      <td>Country</td>\n",
       "    </tr>\n",
       "    <tr>\n",
       "      <th>2</th>\n",
       "      <td>/bill-monroe/</td>\n",
       "      <td>Traveling On And On</td>\n",
       "      <td>/bill-monroe/traveling-on-and-on.html</td>\n",
       "      <td>Oh I was lost in the darkness and I wandered a...</td>\n",
       "      <td>en</td>\n",
       "      <td>Bill Monroe</td>\n",
       "      <td>Country; Black Music</td>\n",
       "      <td>Country</td>\n",
       "    </tr>\n",
       "    <tr>\n",
       "      <th>3</th>\n",
       "      <td>/hank-williams/</td>\n",
       "      <td>A Message To My Mother</td>\n",
       "      <td>/hank-williams/a-message-to-my-mother.html</td>\n",
       "      <td>CHORUS\\nTake this message to my mother\\nIt wil...</td>\n",
       "      <td>en</td>\n",
       "      <td>Hank Williams</td>\n",
       "      <td>Country</td>\n",
       "      <td>Country</td>\n",
       "    </tr>\n",
       "    <tr>\n",
       "      <th>4</th>\n",
       "      <td>/keith-urban/</td>\n",
       "      <td>God Whispered Your Name</td>\n",
       "      <td>/keith-urban/god-whispered-your-name.html</td>\n",
       "      <td>I was so cold and lost\\nAnd nothing seemed to ...</td>\n",
       "      <td>en</td>\n",
       "      <td>Keith Urban</td>\n",
       "      <td>Country</td>\n",
       "      <td>Country</td>\n",
       "    </tr>\n",
       "  </tbody>\n",
       "</table>\n",
       "</div>"
      ],
      "text/plain": [
       "             ALink                             SName  \\\n",
       "0  /willie-nelson/            Down In The Everglades   \n",
       "1  /george-strait/  She Took The Wind From His Sails   \n",
       "2    /bill-monroe/               Traveling On And On   \n",
       "3  /hank-williams/            A Message To My Mother   \n",
       "4    /keith-urban/           God Whispered Your Name   \n",
       "\n",
       "                                        SLink  \\\n",
       "0  /willie-nelson/down-in-the-everglades.html   \n",
       "1                       /george-strait/s.html   \n",
       "2       /bill-monroe/traveling-on-and-on.html   \n",
       "3  /hank-williams/a-message-to-my-mother.html   \n",
       "4   /keith-urban/god-whispered-your-name.html   \n",
       "\n",
       "                                               Lyric language         Artist  \\\n",
       "0  Theres a boat race down the river\\nTheres a sl...       en  Willie Nelson   \n",
       "1  Outer banks of North Carolina\\nLies a sleepy h...       en  George Strait   \n",
       "2  Oh I was lost in the darkness and I wandered a...       en    Bill Monroe   \n",
       "3  CHORUS\\nTake this message to my mother\\nIt wil...       en  Hank Williams   \n",
       "4  I was so cold and lost\\nAnd nothing seemed to ...       en    Keith Urban   \n",
       "\n",
       "                 Genres Main_Genre  \n",
       "0               Country    Country  \n",
       "1               Country    Country  \n",
       "2  Country; Black Music    Country  \n",
       "3               Country    Country  \n",
       "4               Country    Country  "
      ]
     },
     "execution_count": 33,
     "metadata": {},
     "output_type": "execute_result"
    }
   ],
   "source": [
    "selected_genres = ['Pop', 'Rock', 'Hip Hop', 'Country']\n",
    "\n",
    "sample_df = (\n",
    "    merged_df[merged_df['Main_Genre'].isin(selected_genres)]\n",
    "    .groupby('Main_Genre')\n",
    "    .apply(lambda x: x.sample(10, random_state=42))\n",
    "    .reset_index(drop=True)\n",
    ")\n",
    "\n",
    "print(sample_df['Main_Genre'].value_counts())\n",
    "sample_df.head()"
   ]
  },
  {
   "cell_type": "markdown",
   "id": "97af5e97",
   "metadata": {},
   "source": [
    "# Step 2. Preprocessing"
   ]
  },
  {
   "cell_type": "code",
   "execution_count": null,
   "id": "b6c7c1cd",
   "metadata": {},
   "outputs": [],
   "source": [
    "import spacy\n",
    "import string\n",
    "from spacy.lang.en.stop_words import STOP_WORDS\n",
    "\n",
    "nlp = spacy.load(\"en_core_web_sm\")"
   ]
  },
  {
   "cell_type": "code",
   "execution_count": null,
   "id": "93a3a95f",
   "metadata": {},
   "outputs": [],
   "source": [
    "def preprocess_lyrics(text):\n",
    "    if not isinstance(text, str):\n",
    "        return \"\"\n",
    "    \n",
    "    # Lowercase\n",
    "    text = text.lower()\n",
    "    \n",
    "    # Remove punctuation\n",
    "    text = text.translate(str.maketrans(\"\", \"\", string.punctuation))\n",
    "    \n",
    "    # Process with spaCy\n",
    "    doc = nlp(text)\n",
    "    \n",
    "    # Remove stopwords and lemmatize\n",
    "    tokens = [token.lemma_ for token in doc if token.is_alpha and token.text not in STOP_WORDS]\n",
    "    \n",
    "    return \" \".join(tokens)"
   ]
  },
  {
   "cell_type": "code",
   "execution_count": null,
   "id": "9b5915ee",
   "metadata": {},
   "outputs": [
    {
     "name": "stderr",
     "output_type": "stream",
     "text": [
      "100%|██████████| 40/40 [00:01<00:00, 20.37it/s]\n"
     ]
    }
   ],
   "source": [
    "import pandas as pd\n",
    "from tqdm import tqdm\n",
    "\n",
    "tqdm.pandas()\n",
    "sample_df[\"Cleaned_Lyric\"] = sample_df[\"Lyric\"].progress_apply(preprocess_lyrics)"
   ]
  },
  {
   "cell_type": "code",
   "execution_count": 39,
   "id": "b4d50392",
   "metadata": {},
   "outputs": [
    {
     "data": {
      "text/html": [
       "<div>\n",
       "<style scoped>\n",
       "    .dataframe tbody tr th:only-of-type {\n",
       "        vertical-align: middle;\n",
       "    }\n",
       "\n",
       "    .dataframe tbody tr th {\n",
       "        vertical-align: top;\n",
       "    }\n",
       "\n",
       "    .dataframe thead th {\n",
       "        text-align: right;\n",
       "    }\n",
       "</style>\n",
       "<table border=\"1\" class=\"dataframe\">\n",
       "  <thead>\n",
       "    <tr style=\"text-align: right;\">\n",
       "      <th></th>\n",
       "      <th>SName</th>\n",
       "      <th>Lyric</th>\n",
       "      <th>Cleaned_Lyric</th>\n",
       "    </tr>\n",
       "  </thead>\n",
       "  <tbody>\n",
       "    <tr>\n",
       "      <th>0</th>\n",
       "      <td>Down In The Everglades</td>\n",
       "      <td>Theres a boat race down the river\\nTheres a sl...</td>\n",
       "      <td>s boat race river s slow boat mind everybodys ...</td>\n",
       "    </tr>\n",
       "    <tr>\n",
       "      <th>1</th>\n",
       "      <td>She Took The Wind From His Sails</td>\n",
       "      <td>Outer banks of North Carolina\\nLies a sleepy h...</td>\n",
       "      <td>outer bank north carolina lie sleepy harbor to...</td>\n",
       "    </tr>\n",
       "    <tr>\n",
       "      <th>2</th>\n",
       "      <td>Traveling On And On</td>\n",
       "      <td>Oh I was lost in the darkness and I wandered a...</td>\n",
       "      <td>oh lose darkness wander astray help way hear j...</td>\n",
       "    </tr>\n",
       "  </tbody>\n",
       "</table>\n",
       "</div>"
      ],
      "text/plain": [
       "                              SName  \\\n",
       "0            Down In The Everglades   \n",
       "1  She Took The Wind From His Sails   \n",
       "2               Traveling On And On   \n",
       "\n",
       "                                               Lyric  \\\n",
       "0  Theres a boat race down the river\\nTheres a sl...   \n",
       "1  Outer banks of North Carolina\\nLies a sleepy h...   \n",
       "2  Oh I was lost in the darkness and I wandered a...   \n",
       "\n",
       "                                       Cleaned_Lyric  \n",
       "0  s boat race river s slow boat mind everybodys ...  \n",
       "1  outer bank north carolina lie sleepy harbor to...  \n",
       "2  oh lose darkness wander astray help way hear j...  "
      ]
     },
     "execution_count": 39,
     "metadata": {},
     "output_type": "execute_result"
    }
   ],
   "source": [
    "sample_df[['SName', 'Lyric', 'Cleaned_Lyric']].head(3)"
   ]
  },
  {
   "cell_type": "markdown",
   "id": "2b266128",
   "metadata": {},
   "source": [
    "# Step 3. Frequency analysis"
   ]
  },
  {
   "cell_type": "code",
   "execution_count": null,
   "id": "f3f8c242",
   "metadata": {},
   "outputs": [
    {
     "data": {
      "text/html": [
       "<div>\n",
       "<style scoped>\n",
       "    .dataframe tbody tr th:only-of-type {\n",
       "        vertical-align: middle;\n",
       "    }\n",
       "\n",
       "    .dataframe tbody tr th {\n",
       "        vertical-align: top;\n",
       "    }\n",
       "\n",
       "    .dataframe thead th {\n",
       "        text-align: right;\n",
       "    }\n",
       "</style>\n",
       "<table border=\"1\" class=\"dataframe\">\n",
       "  <thead>\n",
       "    <tr style=\"text-align: right;\">\n",
       "      <th></th>\n",
       "      <th>Main_Genre</th>\n",
       "      <th>SName</th>\n",
       "      <th>Tokens</th>\n",
       "    </tr>\n",
       "  </thead>\n",
       "  <tbody>\n",
       "    <tr>\n",
       "      <th>0</th>\n",
       "      <td>Country</td>\n",
       "      <td>Down In The Everglades</td>\n",
       "      <td>[s, boat, race, river, s, slow, boat, mind, ev...</td>\n",
       "    </tr>\n",
       "    <tr>\n",
       "      <th>1</th>\n",
       "      <td>Country</td>\n",
       "      <td>She Took The Wind From His Sails</td>\n",
       "      <td>[outer, bank, north, carolina, lie, sleepy, ha...</td>\n",
       "    </tr>\n",
       "    <tr>\n",
       "      <th>2</th>\n",
       "      <td>Country</td>\n",
       "      <td>Traveling On And On</td>\n",
       "      <td>[oh, lose, darkness, wander, astray, help, way...</td>\n",
       "    </tr>\n",
       "  </tbody>\n",
       "</table>\n",
       "</div>"
      ],
      "text/plain": [
       "  Main_Genre                             SName  \\\n",
       "0    Country            Down In The Everglades   \n",
       "1    Country  She Took The Wind From His Sails   \n",
       "2    Country               Traveling On And On   \n",
       "\n",
       "                                              Tokens  \n",
       "0  [s, boat, race, river, s, slow, boat, mind, ev...  \n",
       "1  [outer, bank, north, carolina, lie, sleepy, ha...  \n",
       "2  [oh, lose, darkness, wander, astray, help, way...  "
      ]
     },
     "execution_count": 41,
     "metadata": {},
     "output_type": "execute_result"
    }
   ],
   "source": [
    "sample_df[\"Tokens\"] = sample_df[\"Cleaned_Lyric\"].apply(lambda x: x.split())\n",
    "sample_df[[\"Main_Genre\", \"SName\", \"Tokens\"]].head(3)"
   ]
  },
  {
   "cell_type": "code",
   "execution_count": 42,
   "id": "032d2e85",
   "metadata": {},
   "outputs": [],
   "source": [
    "from collections import Counter\n",
    "\n",
    "# Create a dictionary to store frequency counts for each genre\n",
    "genre_word_freq = {}\n",
    "\n",
    "for genre, group in sample_df.groupby(\"Main_Genre\"):\n",
    "    all_words = [word for tokens in group[\"Tokens\"] for word in tokens]\n",
    "    word_freq = Counter(all_words)\n",
    "    genre_word_freq[genre] = word_freq"
   ]
  },
  {
   "cell_type": "code",
   "execution_count": 46,
   "id": "79228a3f",
   "metadata": {},
   "outputs": [
    {
     "name": "stdout",
     "output_type": "stream",
     "text": [
      "\n",
      "🎵 Top 10 words in Country:\n",
      "s               27\n",
      "go              27\n",
      "not             26\n",
      "m               25\n",
      "love            25\n",
      "to              21\n",
      "like            18\n",
      "know            16\n",
      "hallelujah      16\n",
      "come            14\n",
      "\n",
      "🎵 Top 10 words in Hip Hop:\n",
      "like            64\n",
      "not             64\n",
      "come            49\n",
      "m               47\n",
      "ready           38\n",
      "feel            36\n",
      "cause           36\n",
      "know            33\n",
      "get             32\n",
      "go              24\n",
      "\n",
      "🎵 Top 10 words in Pop:\n",
      "get             66\n",
      "na              54\n",
      "not             46\n",
      "oh              36\n",
      "to              35\n",
      "come            30\n",
      "love            24\n",
      "ready           23\n",
      "stop            22\n",
      "m               20\n",
      "\n",
      "🎵 Top 10 words in Rock:\n",
      "love            21\n",
      "not             20\n",
      "like            18\n",
      "away            16\n",
      "fall            15\n",
      "surrender       14\n",
      "d               13\n",
      "velvet          13\n",
      "goldmine        13\n",
      "belong          13\n"
     ]
    }
   ],
   "source": [
    "for genre, freq in genre_word_freq.items():\n",
    "    print(f\"\\n🎵 Top 10 words in {genre}:\")\n",
    "    for word, count in freq.most_common(10):\n",
    "        print(f\"{word:<15} {count}\")"
   ]
  },
  {
   "cell_type": "code",
   "execution_count": 50,
   "id": "09add360",
   "metadata": {},
   "outputs": [
    {
     "data": {
      "image/png": "[encoded data removed]",
      "text/plain": [
       "<Figure size 800x400 with 1 Axes>"
      ]
     },
     "metadata": {},
     "output_type": "display_data"
    },
    {
     "data": {
      "image/png": "[encoded data removed]",
      "text/plain": [
       "<Figure size 800x400 with 1 Axes>"
      ]
     },
     "metadata": {},
     "output_type": "display_data"
    },
    {
     "data": {
      "image/png": "[encoded data removed]",
      "text/plain": [
       "<Figure size 800x400 with 1 Axes>"
      ]
     },
     "metadata": {},
     "output_type": "display_data"
    },
    {
     "data": {
      "image/png": "[encoded data removed]",
      "text/plain": [
       "<Figure size 800x400 with 1 Axes>"
      ]
     },
     "metadata": {},
     "output_type": "display_data"
    }
   ],
   "source": [
    "import matplotlib.pyplot as plt\n",
    "\n",
    "for genre, freq in genre_word_freq.items():\n",
    "    top_words = freq.most_common(10)\n",
    "    words, counts = zip(*top_words)\n",
    "    \n",
    "    plt.figure(figsize=(8, 4))\n",
    "    plt.bar(words, counts)\n",
    "    plt.title(f\"Top 10 Words in {genre}\")\n",
    "    plt.xticks(rotation=45)\n",
    "    plt.show()"
   ]
  },
  {
   "cell_type": "markdown",
   "id": "da9d9cff",
   "metadata": {},
   "source": [
    "# Step 4. Analysis by categories"
   ]
  },
  {
   "cell_type": "code",
   "execution_count": 51,
   "id": "f0a4404d",
   "metadata": {},
   "outputs": [],
   "source": [
    "categories = {\n",
    "    \"time_of_day\": [\"morning\", \"day\", \"evening\", \"night\", \"midnight\", \"sunrise\", \"sunset\"],\n",
    "    \"seasons\": [\"winter\", \"spring\", \"summer\", \"autumn\", \"fall\"],\n",
    "    \"body_parts\": [\"eyes\", \"heart\", \"hand\", \"hands\", \"face\", \"head\", \"mouth\", \"lips\", \"body\", \"feet\"]\n",
    "}\n"
   ]
  },
  {
   "cell_type": "code",
   "execution_count": 52,
   "id": "9905106e",
   "metadata": {},
   "outputs": [],
   "source": [
    "# Create a nested dictionary: {genre: {category: count}}\n",
    "category_counts = {}\n",
    "\n",
    "for genre, group in sample_df.groupby(\"Main_Genre\"):\n",
    "    all_words = [word for tokens in group[\"Tokens\"] for word in tokens]\n",
    "    genre_counter = Counter(all_words)\n",
    "    \n",
    "    category_counts[genre] = {}\n",
    "    for category, words in categories.items():\n",
    "        category_counts[genre][category] = sum(genre_counter[w] for w in words)\n"
   ]
  },
  {
   "cell_type": "code",
   "execution_count": 53,
   "id": "5efe7618",
   "metadata": {},
   "outputs": [
    {
     "data": {
      "text/html": [
       "<div>\n",
       "<style scoped>\n",
       "    .dataframe tbody tr th:only-of-type {\n",
       "        vertical-align: middle;\n",
       "    }\n",
       "\n",
       "    .dataframe tbody tr th {\n",
       "        vertical-align: top;\n",
       "    }\n",
       "\n",
       "    .dataframe thead th {\n",
       "        text-align: right;\n",
       "    }\n",
       "</style>\n",
       "<table border=\"1\" class=\"dataframe\">\n",
       "  <thead>\n",
       "    <tr style=\"text-align: right;\">\n",
       "      <th></th>\n",
       "      <th>time_of_day</th>\n",
       "      <th>seasons</th>\n",
       "      <th>body_parts</th>\n",
       "    </tr>\n",
       "  </thead>\n",
       "  <tbody>\n",
       "    <tr>\n",
       "      <th>Country</th>\n",
       "      <td>11</td>\n",
       "      <td>3</td>\n",
       "      <td>33</td>\n",
       "    </tr>\n",
       "    <tr>\n",
       "      <th>Hip Hop</th>\n",
       "      <td>7</td>\n",
       "      <td>9</td>\n",
       "      <td>38</td>\n",
       "    </tr>\n",
       "    <tr>\n",
       "      <th>Pop</th>\n",
       "      <td>37</td>\n",
       "      <td>10</td>\n",
       "      <td>10</td>\n",
       "    </tr>\n",
       "    <tr>\n",
       "      <th>Rock</th>\n",
       "      <td>15</td>\n",
       "      <td>15</td>\n",
       "      <td>19</td>\n",
       "    </tr>\n",
       "  </tbody>\n",
       "</table>\n",
       "</div>"
      ],
      "text/plain": [
       "         time_of_day  seasons  body_parts\n",
       "Country           11        3          33\n",
       "Hip Hop            7        9          38\n",
       "Pop               37       10          10\n",
       "Rock              15       15          19"
      ]
     },
     "execution_count": 53,
     "metadata": {},
     "output_type": "execute_result"
    }
   ],
   "source": [
    "category_df = pd.DataFrame(category_counts).T  # Transpose so genres are rows\n",
    "category_df\n"
   ]
  },
  {
   "cell_type": "code",
   "execution_count": 54,
   "id": "c8785585",
   "metadata": {},
   "outputs": [
    {
     "data": {
      "image/png": "[encoded data removed]",
      "text/plain": [
       "<Figure size 800x500 with 1 Axes>"
      ]
     },
     "metadata": {},
     "output_type": "display_data"
    }
   ],
   "source": [
    "category_df.plot(kind='bar', figsize=(8,5))\n",
    "plt.title(\"Category Word Frequency by Genre\")\n",
    "plt.xlabel(\"Genre\")\n",
    "plt.ylabel(\"Word Count\")\n",
    "plt.xticks(rotation=45)\n",
    "plt.legend(title=\"Category\")\n",
    "plt.show()\n"
   ]
  },
  {
   "cell_type": "markdown",
   "id": "4146558f",
   "metadata": {},
   "source": [
    "# Step 5. Search for rare words"
   ]
  },
  {
   "cell_type": "code",
   "execution_count": null,
   "id": "7ad8f0e7",
   "metadata": {},
   "outputs": [
    {
     "name": "stdout",
     "output_type": "stream",
     "text": [
      "Genres considered: ['Country', 'Hip Hop', 'Pop', 'Rock']\n",
      "Words common to all genres: 76\n",
      "Rare words across all genres (occur ≤3 times per genre): 11\n",
      "Example rare words: ['miss', 'sit', 'old', 'care', 'dream', 'fly', 'stay', 'pain', 'clear', 'sleep', 'past']\n",
      "✅ Saved to 'rare_words_across_genres.csv'\n"
     ]
    }
   ],
   "source": [
    "from collections import Counter\n",
    "import pandas as pd\n",
    "\n",
    "# Compute frequency for each genre\n",
    "genre_word_freq = {}\n",
    "for genre in sample_df['Main_Genre'].unique():\n",
    "    text = \" \".join(sample_df[sample_df['Main_Genre'] == genre]['Cleaned_Lyric'].fillna(\"\").astype(str))\n",
    "    tokens = text.split()\n",
    "    genre_word_freq[genre] = Counter(tokens)\n",
    "\n",
    "# Create sets of all unique words for each genre\n",
    "genre_word_sets = [set(freq.keys()) for freq in genre_word_freq.values()]\n",
    "\n",
    "# Safely compute intersection across all genre word sets\n",
    "if len(genre_word_sets) == 0:\n",
    "    common_words = set()\n",
    "elif len(genre_word_sets) == 1:\n",
    "    common_words = genre_word_sets[0]\n",
    "else:\n",
    "    common_words = genre_word_sets[0].intersection(*genre_word_sets[1:])\n",
    "\n",
    "print(\"Genres considered:\", list(genre_word_freq.keys()))\n",
    "print(\"Words common to all genres:\", len(common_words))\n",
    "\n",
    "# Find words that appear ≤ 3 times in every genre\n",
    "rare_words = [\n",
    "    w for w in common_words\n",
    "    if all(genre_word_freq[genre].get(w, 0) <= 3 for genre in genre_word_freq)\n",
    "]\n",
    "\n",
    "print(f\"Rare words across all genres (occur ≤3 times per genre): {len(rare_words)}\")\n",
    "print(\"Example rare words:\", rare_words[:50])\n",
    "\n",
    "# (Optional) Export to CSV\n",
    "pd.DataFrame(rare_words, columns=[\"Rare_Word\"]).to_csv(\"rare_words_across_genres.csv\", index=False)\n",
    "print(\"✅ Saved to 'rare_words_across_genres.csv'\")\n"
   ]
  }
 ],
 "metadata": {
  "kernelspec": {
   "display_name": ".venv",
   "language": "python",
   "name": "python3"
  },
  "language_info": {
   "codemirror_mode": {
    "name": "ipython",
    "version": 3
   },
   "file_extension": ".py",
   "mimetype": "text/x-python",
   "name": "python",
   "nbconvert_exporter": "python",
   "pygments_lexer": "ipython3",
   "version": "3.12.3"
  }
 },
 "nbformat": 4,
 "nbformat_minor": 5
}
