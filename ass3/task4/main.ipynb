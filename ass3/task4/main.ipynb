{
 "cells": [
  {
   "cell_type": "markdown",
   "id": "5c0894dd",
   "metadata": {},
   "source": [
    "# Step 1. Data collection"
   ]
  },
  {
   "cell_type": "code",
   "execution_count": 37,
   "id": "1bbb1ffc",
   "metadata": {},
   "outputs": [],
   "source": [
    "import pandas as pd\n",
    "from pathlib import Path\n",
    "DATA_FOLDER_PATH = Path(\"data\")\n",
    "DATASET_PATH = DATA_FOLDER_PATH / \"language_dataset.csv\""
   ]
  },
  {
   "cell_type": "markdown",
   "id": "065aaeb4",
   "metadata": {},
   "source": [
    "# Step 2. Preprocessing"
   ]
  },
  {
   "cell_type": "code",
   "execution_count": 38,
   "id": "acc14817",
   "metadata": {},
   "outputs": [
    {
     "name": "stdout",
     "output_type": "stream",
     "text": [
      "✅ Preprocessing complete. Clean text preview:\n",
      "\n",
      "                                     text  \\\n",
      "0       The city is quiet in the morning.   \n",
      "1  She likes reading books about history.   \n",
      "2  This restaurant serves delicious food.   \n",
      "3     We are planning a trip next summer.   \n",
      "4     The internet has changed the world.   \n",
      "5     Бүгін мектепте жаңа сабақ басталды.   \n",
      "6      Менің атым Айдана, мен студентпін.   \n",
      "7           Ол музыка тыңдағанды ұнатады.   \n",
      "\n",
      "                              clean_text language  \n",
      "0       the city is quiet in the morning  English  \n",
      "1  she likes reading books about history  English  \n",
      "2  this restaurant serves delicious food  English  \n",
      "3     we are planning a trip next summer  English  \n",
      "4     the internet has changed the world  English  \n",
      "5     бүгін мектепте жаңа сабақ басталды   Kazakh  \n",
      "6       менің атым айдана мен студентпін   Kazakh  \n",
      "7           ол музыка тыңдағанды ұнатады   Kazakh  \n"
     ]
    }
   ],
   "source": [
    "import pandas as pd\n",
    "import re\n",
    "\n",
    "# Load dataset\n",
    "df = pd.read_csv(DATASET_PATH, encoding=\"utf-8\")\n",
    "\n",
    "# Function to preprocess text\n",
    "def preprocess_text(text):\n",
    "    # Convert to lowercase\n",
    "    text = text.lower()\n",
    "    # Keep only letters and spaces (supporting multiple scripts)\n",
    "    text = re.sub(r'[^a-zA-Zа-яА-Яәғқңөұүһіёéèàçùœ\\s]', '', text)\n",
    "    # Remove extra spaces\n",
    "    text = re.sub(r'\\s+', ' ', text).strip()\n",
    "    return text\n",
    "\n",
    "# Apply preprocessing\n",
    "df[\"clean_text\"] = df[\"text\"].apply(preprocess_text)\n",
    "\n",
    "# Save the cleaned dataset (optional)\n",
    "df.to_csv(CLEAN_DATASET_PATH, index=False, encoding=\"utf-8\")\n",
    "\n",
    "print(\"✅ Preprocessing complete. Clean text preview:\\n\")\n",
    "print(df[[\"text\", \"clean_text\", \"language\"]].head(8))\n"
   ]
  },
  {
   "cell_type": "markdown",
   "id": "d885b594",
   "metadata": {},
   "source": [
    "# Step 3. Features"
   ]
  },
  {
   "cell_type": "code",
   "execution_count": 39,
   "id": "904c2429",
   "metadata": {},
   "outputs": [
    {
     "name": "stdout",
     "output_type": "stream",
     "text": [
      "✅ Feature extraction complete.\n",
      "Matrix shape: (20, 389)\n",
      "Number of features: 389\n",
      "\n",
      "Sample features: [' ' ' a' ' b' ' c' ' d' ' e' ' f' ' h' ' i' ' j' ' l' ' m' ' n' ' p' ' q']\n"
     ]
    }
   ],
   "source": [
    "from sklearn.feature_extraction.text import TfidfVectorizer\n",
    "\n",
    "# Load preprocessed dataset\n",
    "df = pd.read_csv(CLEAN_DATASET_PATH, encoding=\"utf-8\")\n",
    "\n",
    "# === TF-IDF Vectorization ===\n",
    "# Use both single letters and bigrams\n",
    "vectorizer = TfidfVectorizer(analyzer='char', ngram_range=(1, 2))\n",
    "\n",
    "# Fit and transform\n",
    "X = vectorizer.fit_transform(df[\"clean_text\"])\n",
    "y = df[\"language\"]\n",
    "\n",
    "print(\"✅ Feature extraction complete.\")\n",
    "print(f\"Matrix shape: {X.shape}\")  # (samples, features)\n",
    "print(f\"Number of features: {len(vectorizer.get_feature_names_out())}\")\n",
    "\n",
    "# Show example feature names\n",
    "print(\"\\nSample features:\", vectorizer.get_feature_names_out()[:15])\n"
   ]
  },
  {
   "cell_type": "markdown",
   "id": "675656ab",
   "metadata": {},
   "source": [
    "# Step 4. Model training"
   ]
  },
  {
   "cell_type": "code",
   "execution_count": 40,
   "id": "e2ebbe11",
   "metadata": {},
   "outputs": [],
   "source": [
    "from sklearn.feature_extraction.text import TfidfVectorizer\n",
    "from sklearn.model_selection import train_test_split\n",
    "from sklearn.naive_bayes import MultinomialNB\n",
    "from sklearn.metrics import accuracy_score, confusion_matrix, ConfusionMatrixDisplay, classification_report\n",
    "import matplotlib.pyplot as plt"
   ]
  },
  {
   "cell_type": "code",
   "execution_count": 41,
   "id": "16b441e4",
   "metadata": {},
   "outputs": [
    {
     "name": "stdout",
     "output_type": "stream",
     "text": [
      "✅ Model training complete!\n",
      "Accuracy: 0.67\n",
      "\n",
      "Classification Report:\n",
      "              precision    recall  f1-score   support\n",
      "\n",
      "     English       1.00      1.00      1.00         2\n",
      "      French       1.00      1.00      1.00         2\n",
      "      Kazakh       0.00      0.00      0.00         2\n",
      "     Russian       0.00      0.00      0.00         0\n",
      "\n",
      "    accuracy                           0.67         6\n",
      "   macro avg       0.50      0.50      0.50         6\n",
      "weighted avg       0.67      0.67      0.67         6\n",
      "\n"
     ]
    }
   ],
   "source": [
    "# === Feature extraction (TF-IDF for chars and bigrams) ===\n",
    "vectorizer = TfidfVectorizer(analyzer='char', ngram_range=(1, 2))\n",
    "X = vectorizer.fit_transform(df[\"clean_text\"])\n",
    "y = df[\"language\"]\n",
    "\n",
    "# === Split data ===\n",
    "X_train, X_test, y_train, y_test = train_test_split(X, y, test_size=0.3, random_state=42)\n",
    "\n",
    "# === Train model ===\n",
    "model = MultinomialNB()\n",
    "model.fit(X_train, y_train)\n",
    "\n",
    "# === Predict ===\n",
    "y_pred = model.predict(X_test)\n",
    "\n",
    "# === Evaluation ===\n",
    "accuracy = accuracy_score(y_test, y_pred)\n",
    "\n",
    "print(\"✅ Model training complete!\")\n",
    "print(f\"Accuracy: {accuracy:.2f}\")\n",
    "print(\"\\nClassification Report:\")\n",
    "print(classification_report(y_test, y_pred, zero_division=0))"
   ]
  },
  {
   "cell_type": "markdown",
   "id": "e1888dc8",
   "metadata": {},
   "source": [
    "# Step 5. Evaluation of quality"
   ]
  },
  {
   "cell_type": "code",
   "execution_count": 42,
   "id": "9bc4e49d",
   "metadata": {},
   "outputs": [
    {
     "name": "stdout",
     "output_type": "stream",
     "text": [
      "✅ Accuracy: 0.67\n",
      "\n",
      "Classification Report:\n",
      "              precision    recall  f1-score   support\n",
      "\n",
      "     English       1.00      1.00      1.00         2\n",
      "      French       1.00      1.00      1.00         2\n",
      "      Kazakh       0.00      0.00      0.00         2\n",
      "     Russian       0.00      0.00      0.00         0\n",
      "\n",
      "    accuracy                           0.67         6\n",
      "   macro avg       0.50      0.50      0.50         6\n",
      "weighted avg       0.67      0.67      0.67         6\n",
      "\n"
     ]
    },
    {
     "name": "stderr",
     "output_type": "stream",
     "text": [
      "/home/hacker/aitu/pfa/ass3/.venv/lib/python3.12/site-packages/sklearn/metrics/_classification.py:1731: UndefinedMetricWarning: Precision is ill-defined and being set to 0.0 in labels with no predicted samples. Use `zero_division` parameter to control this behavior.\n",
      "  _warn_prf(average, modifier, f\"{metric.capitalize()} is\", result.shape[0])\n",
      "/home/hacker/aitu/pfa/ass3/.venv/lib/python3.12/site-packages/sklearn/metrics/_classification.py:1731: UndefinedMetricWarning: Recall is ill-defined and being set to 0.0 in labels with no true samples. Use `zero_division` parameter to control this behavior.\n",
      "  _warn_prf(average, modifier, f\"{metric.capitalize()} is\", result.shape[0])\n",
      "/home/hacker/aitu/pfa/ass3/.venv/lib/python3.12/site-packages/sklearn/metrics/_classification.py:1731: UndefinedMetricWarning: Precision is ill-defined and being set to 0.0 in labels with no predicted samples. Use `zero_division` parameter to control this behavior.\n",
      "  _warn_prf(average, modifier, f\"{metric.capitalize()} is\", result.shape[0])\n",
      "/home/hacker/aitu/pfa/ass3/.venv/lib/python3.12/site-packages/sklearn/metrics/_classification.py:1731: UndefinedMetricWarning: Recall is ill-defined and being set to 0.0 in labels with no true samples. Use `zero_division` parameter to control this behavior.\n",
      "  _warn_prf(average, modifier, f\"{metric.capitalize()} is\", result.shape[0])\n",
      "/home/hacker/aitu/pfa/ass3/.venv/lib/python3.12/site-packages/sklearn/metrics/_classification.py:1731: UndefinedMetricWarning: Precision is ill-defined and being set to 0.0 in labels with no predicted samples. Use `zero_division` parameter to control this behavior.\n",
      "  _warn_prf(average, modifier, f\"{metric.capitalize()} is\", result.shape[0])\n",
      "/home/hacker/aitu/pfa/ass3/.venv/lib/python3.12/site-packages/sklearn/metrics/_classification.py:1731: UndefinedMetricWarning: Recall is ill-defined and being set to 0.0 in labels with no true samples. Use `zero_division` parameter to control this behavior.\n",
      "  _warn_prf(average, modifier, f\"{metric.capitalize()} is\", result.shape[0])\n"
     ]
    },
    {
     "data": {
      "text/plain": [
       "<Figure size 600x500 with 0 Axes>"
      ]
     },
     "metadata": {},
     "output_type": "display_data"
    },
    {
     "data": {
      "image/png": "[encoded data removed]",
      "text/plain": [
       "<Figure size 640x480 with 2 Axes>"
      ]
     },
     "metadata": {},
     "output_type": "display_data"
    }
   ],
   "source": [
    "# === TF-IDF Features (char + bigram) ===\n",
    "vectorizer = TfidfVectorizer(analyzer='char', ngram_range=(1, 2))\n",
    "X = vectorizer.fit_transform(df[\"clean_text\"])\n",
    "y = df[\"language\"]\n",
    "\n",
    "# === Split data ===\n",
    "X_train, X_test, y_train, y_test = train_test_split(X, y, test_size=0.3, random_state=42)\n",
    "\n",
    "# === Train model ===\n",
    "model = MultinomialNB()\n",
    "model.fit(X_train, y_train)\n",
    "\n",
    "# === Predict ===\n",
    "y_pred = model.predict(X_test)\n",
    "\n",
    "# === Accuracy and Reports ===\n",
    "accuracy = accuracy_score(y_test, y_pred)\n",
    "print(f\"✅ Accuracy: {accuracy:.2f}\\n\")\n",
    "print(\"Classification Report:\")\n",
    "print(classification_report(y_test, y_pred))\n",
    "\n",
    "# === Confusion Matrix ===\n",
    "cm = confusion_matrix(y_test, y_pred, labels=model.classes_)\n",
    "disp = ConfusionMatrixDisplay(confusion_matrix=cm, display_labels=model.classes_)\n",
    "\n",
    "# === Plot ===\n",
    "plt.figure(figsize=(6, 5))\n",
    "disp.plot(cmap=\"Blues\", values_format='d')\n",
    "plt.title(\"Confusion Matrix - Language Identification\")\n",
    "plt.show()\n"
   ]
  }
 ],
 "metadata": {
  "kernelspec": {
   "display_name": ".venv",
   "language": "python",
   "name": "python3"
  },
  "language_info": {
   "codemirror_mode": {
    "name": "ipython",
    "version": 3
   },
   "file_extension": ".py",
   "mimetype": "text/x-python",
   "name": "python",
   "nbconvert_exporter": "python",
   "pygments_lexer": "ipython3",
   "version": "3.12.3"
  }
 },
 "nbformat": 4,
 "nbformat_minor": 5
}
