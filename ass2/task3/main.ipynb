{
 "cells": [
  {
   "cell_type": "code",
   "execution_count": 1,
   "id": "acdc5bfb",
   "metadata": {},
   "outputs": [],
   "source": [
    "import numpy as np\n",
    "import pandas as pd"
   ]
  },
  {
   "cell_type": "markdown",
   "id": "09ecf690",
   "metadata": {},
   "source": [
    "### Creating a tensor\n",
    "`7 days, 24 hours, 3 cities`\n"
   ]
  },
  {
   "cell_type": "code",
   "execution_count": 2,
   "id": "37747ad7",
   "metadata": {},
   "outputs": [
    {
     "name": "stdout",
     "output_type": "stream",
     "text": [
      "(7, 24, 3)\n"
     ]
    }
   ],
   "source": [
    "T = np.random.uniform(-10, 35, size=(7, 24, 3))\n",
    "print(T.shape) "
   ]
  },
  {
   "cell_type": "markdown",
   "id": "e0e4c74e",
   "metadata": {},
   "source": [
    "### Output temperatures in the 2nd city for all days and hours"
   ]
  },
  {
   "cell_type": "code",
   "execution_count": 3,
   "id": "f3bc750e",
   "metadata": {},
   "outputs": [
    {
     "name": "stdout",
     "output_type": "stream",
     "text": [
      "First 3 Days Temperature for City2\n"
     ]
    },
    {
     "data": {
      "text/html": [
       "<div>\n",
       "<style scoped>\n",
       "    .dataframe tbody tr th:only-of-type {\n",
       "        vertical-align: middle;\n",
       "    }\n",
       "\n",
       "    .dataframe tbody tr th {\n",
       "        vertical-align: top;\n",
       "    }\n",
       "\n",
       "    .dataframe thead th {\n",
       "        text-align: right;\n",
       "    }\n",
       "</style>\n",
       "<table border=\"1\" class=\"dataframe\">\n",
       "  <thead>\n",
       "    <tr style=\"text-align: right;\">\n",
       "      <th></th>\n",
       "      <th>Hour-0</th>\n",
       "      <th>Hour-1</th>\n",
       "      <th>Hour-2</th>\n",
       "      <th>Hour-3</th>\n",
       "      <th>Hour-4</th>\n",
       "      <th>Hour-5</th>\n",
       "      <th>Hour-6</th>\n",
       "      <th>Hour-7</th>\n",
       "      <th>Hour-8</th>\n",
       "      <th>Hour-9</th>\n",
       "      <th>...</th>\n",
       "      <th>Hour-14</th>\n",
       "      <th>Hour-15</th>\n",
       "      <th>Hour-16</th>\n",
       "      <th>Hour-17</th>\n",
       "      <th>Hour-18</th>\n",
       "      <th>Hour-19</th>\n",
       "      <th>Hour-20</th>\n",
       "      <th>Hour-21</th>\n",
       "      <th>Hour-22</th>\n",
       "      <th>Hour-23</th>\n",
       "    </tr>\n",
       "  </thead>\n",
       "  <tbody>\n",
       "    <tr>\n",
       "      <th>Day1</th>\n",
       "      <td>-7.079122</td>\n",
       "      <td>-8.124728</td>\n",
       "      <td>30.675733</td>\n",
       "      <td>4.769874</td>\n",
       "      <td>30.990400</td>\n",
       "      <td>24.535445</td>\n",
       "      <td>33.101432</td>\n",
       "      <td>1.553586</td>\n",
       "      <td>4.479032</td>\n",
       "      <td>22.530976</td>\n",
       "      <td>...</td>\n",
       "      <td>-6.099902</td>\n",
       "      <td>33.911728</td>\n",
       "      <td>-7.133546</td>\n",
       "      <td>9.674156</td>\n",
       "      <td>9.682474</td>\n",
       "      <td>14.669283</td>\n",
       "      <td>34.993405</td>\n",
       "      <td>32.699133</td>\n",
       "      <td>3.861619</td>\n",
       "      <td>13.024532</td>\n",
       "    </tr>\n",
       "    <tr>\n",
       "      <th>Day2</th>\n",
       "      <td>-8.219802</td>\n",
       "      <td>-7.783973</td>\n",
       "      <td>22.775320</td>\n",
       "      <td>-5.491994</td>\n",
       "      <td>-4.909707</td>\n",
       "      <td>18.357943</td>\n",
       "      <td>31.813442</td>\n",
       "      <td>8.579004</td>\n",
       "      <td>26.502065</td>\n",
       "      <td>33.880092</td>\n",
       "      <td>...</td>\n",
       "      <td>9.820927</td>\n",
       "      <td>-2.688855</td>\n",
       "      <td>7.481840</td>\n",
       "      <td>27.093412</td>\n",
       "      <td>26.635575</td>\n",
       "      <td>-9.611723</td>\n",
       "      <td>27.484186</td>\n",
       "      <td>18.841316</td>\n",
       "      <td>7.364805</td>\n",
       "      <td>8.034973</td>\n",
       "    </tr>\n",
       "    <tr>\n",
       "      <th>Day3</th>\n",
       "      <td>25.203821</td>\n",
       "      <td>25.332227</td>\n",
       "      <td>26.255078</td>\n",
       "      <td>6.591240</td>\n",
       "      <td>28.252098</td>\n",
       "      <td>21.749079</td>\n",
       "      <td>5.404750</td>\n",
       "      <td>25.823311</td>\n",
       "      <td>29.689860</td>\n",
       "      <td>15.197833</td>\n",
       "      <td>...</td>\n",
       "      <td>16.675992</td>\n",
       "      <td>2.632428</td>\n",
       "      <td>21.227048</td>\n",
       "      <td>4.042193</td>\n",
       "      <td>16.555791</td>\n",
       "      <td>-9.173128</td>\n",
       "      <td>-8.546145</td>\n",
       "      <td>1.506205</td>\n",
       "      <td>-7.983232</td>\n",
       "      <td>23.311753</td>\n",
       "    </tr>\n",
       "  </tbody>\n",
       "</table>\n",
       "<p>3 rows × 24 columns</p>\n",
       "</div>"
      ],
      "text/plain": [
       "         Hour-0     Hour-1     Hour-2    Hour-3     Hour-4     Hour-5  \\\n",
       "Day1  -7.079122  -8.124728  30.675733  4.769874  30.990400  24.535445   \n",
       "Day2  -8.219802  -7.783973  22.775320 -5.491994  -4.909707  18.357943   \n",
       "Day3  25.203821  25.332227  26.255078  6.591240  28.252098  21.749079   \n",
       "\n",
       "         Hour-6     Hour-7     Hour-8     Hour-9  ...    Hour-14    Hour-15  \\\n",
       "Day1  33.101432   1.553586   4.479032  22.530976  ...  -6.099902  33.911728   \n",
       "Day2  31.813442   8.579004  26.502065  33.880092  ...   9.820927  -2.688855   \n",
       "Day3   5.404750  25.823311  29.689860  15.197833  ...  16.675992   2.632428   \n",
       "\n",
       "        Hour-16    Hour-17    Hour-18    Hour-19    Hour-20    Hour-21  \\\n",
       "Day1  -7.133546   9.674156   9.682474  14.669283  34.993405  32.699133   \n",
       "Day2   7.481840  27.093412  26.635575  -9.611723  27.484186  18.841316   \n",
       "Day3  21.227048   4.042193  16.555791  -9.173128  -8.546145   1.506205   \n",
       "\n",
       "       Hour-22    Hour-23  \n",
       "Day1  3.861619  13.024532  \n",
       "Day2  7.364805   8.034973  \n",
       "Day3 -7.983232  23.311753  \n",
       "\n",
       "[3 rows x 24 columns]"
      ]
     },
     "execution_count": 3,
     "metadata": {},
     "output_type": "execute_result"
    }
   ],
   "source": [
    "df_city2 = pd.DataFrame(T[:, :, 1], \n",
    "                        index=[f'Day{d+1}' for d in range(len(T))],\n",
    "                        columns=[f'Hour-{h}' for h in range(len(T[0]))])\n",
    "                        \n",
    "print('First 3 Days Temperature for City2')\n",
    "df_city2[:3]"
   ]
  },
  {
   "cell_type": "markdown",
   "id": "4cb47369",
   "metadata": {},
   "source": [
    "### Output temperatures on the 1st day for all cities"
   ]
  },
  {
   "cell_type": "code",
   "execution_count": 4,
   "id": "79228854",
   "metadata": {},
   "outputs": [
    {
     "name": "stdout",
     "output_type": "stream",
     "text": [
      "Temperature for Day2 in all cities\n"
     ]
    },
    {
     "data": {
      "text/html": [
       "<div>\n",
       "<style scoped>\n",
       "    .dataframe tbody tr th:only-of-type {\n",
       "        vertical-align: middle;\n",
       "    }\n",
       "\n",
       "    .dataframe tbody tr th {\n",
       "        vertical-align: top;\n",
       "    }\n",
       "\n",
       "    .dataframe thead th {\n",
       "        text-align: right;\n",
       "    }\n",
       "</style>\n",
       "<table border=\"1\" class=\"dataframe\">\n",
       "  <thead>\n",
       "    <tr style=\"text-align: right;\">\n",
       "      <th></th>\n",
       "      <th>Hour-0</th>\n",
       "      <th>Hour-1</th>\n",
       "      <th>Hour-2</th>\n",
       "      <th>Hour-3</th>\n",
       "      <th>Hour-4</th>\n",
       "      <th>Hour-5</th>\n",
       "      <th>Hour-6</th>\n",
       "      <th>Hour-7</th>\n",
       "      <th>Hour-8</th>\n",
       "      <th>Hour-9</th>\n",
       "      <th>...</th>\n",
       "      <th>Hour-14</th>\n",
       "      <th>Hour-15</th>\n",
       "      <th>Hour-16</th>\n",
       "      <th>Hour-17</th>\n",
       "      <th>Hour-18</th>\n",
       "      <th>Hour-19</th>\n",
       "      <th>Hour-20</th>\n",
       "      <th>Hour-21</th>\n",
       "      <th>Hour-22</th>\n",
       "      <th>Hour-23</th>\n",
       "    </tr>\n",
       "  </thead>\n",
       "  <tbody>\n",
       "    <tr>\n",
       "      <th>City1</th>\n",
       "      <td>-0.684852</td>\n",
       "      <td>27.119151</td>\n",
       "      <td>17.763993</td>\n",
       "      <td>24.344727</td>\n",
       "      <td>30.868467</td>\n",
       "      <td>25.670144</td>\n",
       "      <td>-3.129798</td>\n",
       "      <td>32.329165</td>\n",
       "      <td>0.728367</td>\n",
       "      <td>11.043672</td>\n",
       "      <td>...</td>\n",
       "      <td>5.102544</td>\n",
       "      <td>-0.800036</td>\n",
       "      <td>34.503402</td>\n",
       "      <td>32.286241</td>\n",
       "      <td>23.410777</td>\n",
       "      <td>31.224770</td>\n",
       "      <td>32.026236</td>\n",
       "      <td>-3.632104</td>\n",
       "      <td>-2.654223</td>\n",
       "      <td>34.145850</td>\n",
       "    </tr>\n",
       "    <tr>\n",
       "      <th>City2</th>\n",
       "      <td>-7.079122</td>\n",
       "      <td>-8.124728</td>\n",
       "      <td>30.675733</td>\n",
       "      <td>4.769874</td>\n",
       "      <td>30.990400</td>\n",
       "      <td>24.535445</td>\n",
       "      <td>33.101432</td>\n",
       "      <td>1.553586</td>\n",
       "      <td>4.479032</td>\n",
       "      <td>22.530976</td>\n",
       "      <td>...</td>\n",
       "      <td>-6.099902</td>\n",
       "      <td>33.911728</td>\n",
       "      <td>-7.133546</td>\n",
       "      <td>9.674156</td>\n",
       "      <td>9.682474</td>\n",
       "      <td>14.669283</td>\n",
       "      <td>34.993405</td>\n",
       "      <td>32.699133</td>\n",
       "      <td>3.861619</td>\n",
       "      <td>13.024532</td>\n",
       "    </tr>\n",
       "    <tr>\n",
       "      <th>City3</th>\n",
       "      <td>10.887403</td>\n",
       "      <td>20.460379</td>\n",
       "      <td>12.589727</td>\n",
       "      <td>15.907380</td>\n",
       "      <td>18.104998</td>\n",
       "      <td>16.817683</td>\n",
       "      <td>18.513819</td>\n",
       "      <td>27.628996</td>\n",
       "      <td>14.705721</td>\n",
       "      <td>23.202982</td>\n",
       "      <td>...</td>\n",
       "      <td>1.854362</td>\n",
       "      <td>28.754811</td>\n",
       "      <td>9.957932</td>\n",
       "      <td>2.688550</td>\n",
       "      <td>29.808189</td>\n",
       "      <td>2.122973</td>\n",
       "      <td>-0.945815</td>\n",
       "      <td>-0.505274</td>\n",
       "      <td>29.234063</td>\n",
       "      <td>2.812889</td>\n",
       "    </tr>\n",
       "  </tbody>\n",
       "</table>\n",
       "<p>3 rows × 24 columns</p>\n",
       "</div>"
      ],
      "text/plain": [
       "          Hour-0     Hour-1     Hour-2     Hour-3     Hour-4     Hour-5  \\\n",
       "City1  -0.684852  27.119151  17.763993  24.344727  30.868467  25.670144   \n",
       "City2  -7.079122  -8.124728  30.675733   4.769874  30.990400  24.535445   \n",
       "City3  10.887403  20.460379  12.589727  15.907380  18.104998  16.817683   \n",
       "\n",
       "          Hour-6     Hour-7     Hour-8     Hour-9  ...   Hour-14    Hour-15  \\\n",
       "City1  -3.129798  32.329165   0.728367  11.043672  ...  5.102544  -0.800036   \n",
       "City2  33.101432   1.553586   4.479032  22.530976  ... -6.099902  33.911728   \n",
       "City3  18.513819  27.628996  14.705721  23.202982  ...  1.854362  28.754811   \n",
       "\n",
       "         Hour-16    Hour-17    Hour-18    Hour-19    Hour-20    Hour-21  \\\n",
       "City1  34.503402  32.286241  23.410777  31.224770  32.026236  -3.632104   \n",
       "City2  -7.133546   9.674156   9.682474  14.669283  34.993405  32.699133   \n",
       "City3   9.957932   2.688550  29.808189   2.122973  -0.945815  -0.505274   \n",
       "\n",
       "         Hour-22    Hour-23  \n",
       "City1  -2.654223  34.145850  \n",
       "City2   3.861619  13.024532  \n",
       "City3  29.234063   2.812889  \n",
       "\n",
       "[3 rows x 24 columns]"
      ]
     },
     "execution_count": 4,
     "metadata": {},
     "output_type": "execute_result"
    }
   ],
   "source": [
    "df_day1 = pd.DataFrame(T[0, :, :].T, \n",
    "                        index=[f'City{c+1}' for c in range(len(T[0][0]))],\n",
    "                        columns=[f'Hour-{h}' for h in range(len(T[0]))])\n",
    "print('Temperature for Day2 in all cities')\n",
    "df_day1"
   ]
  },
  {
   "cell_type": "markdown",
   "id": "0ecc5b03",
   "metadata": {},
   "source": [
    "### Find the temperature on the 3rd day, at 12:00, in the 2nd city"
   ]
  },
  {
   "cell_type": "code",
   "execution_count": 5,
   "id": "2516f305",
   "metadata": {},
   "outputs": [
    {
     "name": "stdout",
     "output_type": "stream",
     "text": [
      "Temperature on the 3rd day, at 12:00, in the 2nd city: 18.81\n"
     ]
    }
   ],
   "source": [
    "temp = T[2, 12, 1]\n",
    "print(f'Temperature on the 3rd day, at 12:00, in the 2nd city: {temp:.2f}')"
   ]
  },
  {
   "cell_type": "markdown",
   "id": "a884d764",
   "metadata": {},
   "source": [
    "### Find the average weekly temperature for each city"
   ]
  },
  {
   "cell_type": "code",
   "execution_count": 6,
   "id": "620ae8e7",
   "metadata": {},
   "outputs": [
    {
     "data": {
      "text/html": [
       "<div>\n",
       "<style scoped>\n",
       "    .dataframe tbody tr th:only-of-type {\n",
       "        vertical-align: middle;\n",
       "    }\n",
       "\n",
       "    .dataframe tbody tr th {\n",
       "        vertical-align: top;\n",
       "    }\n",
       "\n",
       "    .dataframe thead th {\n",
       "        text-align: right;\n",
       "    }\n",
       "</style>\n",
       "<table border=\"1\" class=\"dataframe\">\n",
       "  <thead>\n",
       "    <tr style=\"text-align: right;\">\n",
       "      <th></th>\n",
       "      <th>City0</th>\n",
       "      <th>City1</th>\n",
       "      <th>City2</th>\n",
       "    </tr>\n",
       "  </thead>\n",
       "  <tbody>\n",
       "    <tr>\n",
       "      <th>Temp</th>\n",
       "      <td>12.658754</td>\n",
       "      <td>13.255278</td>\n",
       "      <td>12.06965</td>\n",
       "    </tr>\n",
       "  </tbody>\n",
       "</table>\n",
       "</div>"
      ],
      "text/plain": [
       "          City0      City1     City2\n",
       "Temp  12.658754  13.255278  12.06965"
      ]
     },
     "execution_count": 6,
     "metadata": {},
     "output_type": "execute_result"
    }
   ],
   "source": [
    "avg_weekly = T.mean(axis=(0, 1))   \n",
    "df_avg_weekly = pd.DataFrame(avg_weekly.reshape(1, -1), \n",
    "                            columns=[f'City{c}' for c in range(len(T[0][0]))],\n",
    "                            index=['Temp'])\n",
    "df_avg_weekly"
   ]
  },
  {
   "cell_type": "markdown",
   "id": "c05ec9c9",
   "metadata": {},
   "source": [
    "### Find the maximum temperature for each day (across all cities and hours)."
   ]
  },
  {
   "cell_type": "code",
   "execution_count": 7,
   "id": "53cfc837",
   "metadata": {},
   "outputs": [
    {
     "name": "stdout",
     "output_type": "stream",
     "text": [
      "Max Temp for Each Day\n"
     ]
    },
    {
     "data": {
      "text/html": [
       "<div>\n",
       "<style scoped>\n",
       "    .dataframe tbody tr th:only-of-type {\n",
       "        vertical-align: middle;\n",
       "    }\n",
       "\n",
       "    .dataframe tbody tr th {\n",
       "        vertical-align: top;\n",
       "    }\n",
       "\n",
       "    .dataframe thead th {\n",
       "        text-align: right;\n",
       "    }\n",
       "</style>\n",
       "<table border=\"1\" class=\"dataframe\">\n",
       "  <thead>\n",
       "    <tr style=\"text-align: right;\">\n",
       "      <th></th>\n",
       "      <th>Day0</th>\n",
       "      <th>Day1</th>\n",
       "      <th>Day2</th>\n",
       "      <th>Day3</th>\n",
       "      <th>Day4</th>\n",
       "      <th>Day5</th>\n",
       "      <th>Day6</th>\n",
       "    </tr>\n",
       "  </thead>\n",
       "  <tbody>\n",
       "    <tr>\n",
       "      <th>Max_Temp</th>\n",
       "      <td>34.993405</td>\n",
       "      <td>34.301591</td>\n",
       "      <td>34.657762</td>\n",
       "      <td>33.200774</td>\n",
       "      <td>33.405801</td>\n",
       "      <td>34.807883</td>\n",
       "      <td>34.936926</td>\n",
       "    </tr>\n",
       "  </tbody>\n",
       "</table>\n",
       "</div>"
      ],
      "text/plain": [
       "               Day0       Day1       Day2       Day3       Day4       Day5  \\\n",
       "Max_Temp  34.993405  34.301591  34.657762  33.200774  33.405801  34.807883   \n",
       "\n",
       "               Day6  \n",
       "Max_Temp  34.936926  "
      ]
     },
     "execution_count": 7,
     "metadata": {},
     "output_type": "execute_result"
    }
   ],
   "source": [
    "max_per_day = T.max(axis=(1, 2))\n",
    "df_max_per_day = pd.DataFrame(max_per_day.reshape(1,-1), \n",
    "                            columns=[f'Day{c}' for c in range(len(T))],\n",
    "                            index=['Max_Temp'])\n",
    "print('Max Temp for Each Day')\n",
    "df_max_per_day"
   ]
  },
  {
   "cell_type": "markdown",
   "id": "4b1e4bc1",
   "metadata": {},
   "source": [
    "### Find the hour with the lowest average temperature (averaged over all days and cities)."
   ]
  },
  {
   "cell_type": "code",
   "execution_count": 8,
   "id": "be1fbb1e",
   "metadata": {},
   "outputs": [
    {
     "name": "stdout",
     "output_type": "stream",
     "text": [
      "The hour with the lowest average temperature: 14.00\n"
     ]
    }
   ],
   "source": [
    "avg_per_hour = T.mean(axis=(0, 2)) \n",
    "lowest_hour = np.argmin(avg_per_hour)\n",
    "\n",
    "print(f'The hour with the lowest average temperature: {lowest_hour:.2f}')"
   ]
  },
  {
   "cell_type": "markdown",
   "id": "c337542c",
   "metadata": {},
   "source": [
    "### Reshape the tensor into a matrix (7, 72) — each day, all hours and cities in one vector"
   ]
  },
  {
   "cell_type": "code",
   "execution_count": 9,
   "id": "086c4818",
   "metadata": {},
   "outputs": [],
   "source": [
    "T_matrix = T.reshape(7, -1)"
   ]
  },
  {
   "cell_type": "markdown",
   "id": "d8fede14",
   "metadata": {},
   "source": [
    "### Find the correlation of temperatures between cities (based on averaged daily profiles)"
   ]
  },
  {
   "cell_type": "code",
   "execution_count": 10,
   "id": "83849215",
   "metadata": {},
   "outputs": [
    {
     "data": {
      "text/html": [
       "<div>\n",
       "<style scoped>\n",
       "    .dataframe tbody tr th:only-of-type {\n",
       "        vertical-align: middle;\n",
       "    }\n",
       "\n",
       "    .dataframe tbody tr th {\n",
       "        vertical-align: top;\n",
       "    }\n",
       "\n",
       "    .dataframe thead th {\n",
       "        text-align: right;\n",
       "    }\n",
       "</style>\n",
       "<table border=\"1\" class=\"dataframe\">\n",
       "  <thead>\n",
       "    <tr style=\"text-align: right;\">\n",
       "      <th></th>\n",
       "      <th>City0</th>\n",
       "      <th>City1</th>\n",
       "      <th>City2</th>\n",
       "    </tr>\n",
       "  </thead>\n",
       "  <tbody>\n",
       "    <tr>\n",
       "      <th>City0</th>\n",
       "      <td>1.000000</td>\n",
       "      <td>-0.107513</td>\n",
       "      <td>0.258930</td>\n",
       "    </tr>\n",
       "    <tr>\n",
       "      <th>City1</th>\n",
       "      <td>-0.107513</td>\n",
       "      <td>1.000000</td>\n",
       "      <td>-0.448979</td>\n",
       "    </tr>\n",
       "    <tr>\n",
       "      <th>City2</th>\n",
       "      <td>0.258930</td>\n",
       "      <td>-0.448979</td>\n",
       "      <td>1.000000</td>\n",
       "    </tr>\n",
       "  </tbody>\n",
       "</table>\n",
       "</div>"
      ],
      "text/plain": [
       "          City0     City1     City2\n",
       "City0  1.000000 -0.107513  0.258930\n",
       "City1 -0.107513  1.000000 -0.448979\n",
       "City2  0.258930 -0.448979  1.000000"
      ]
     },
     "execution_count": 10,
     "metadata": {},
     "output_type": "execute_result"
    }
   ],
   "source": [
    "daily_profiles = T.mean(axis=1)\n",
    "corr = np.corrcoef(daily_profiles.T)\n",
    "\n",
    "labels = [f'City{c}' for c in range(len(T[0][0]))]\n",
    "df_daily_profiles = pd.DataFrame(corr, index=labels, columns=labels)\n",
    "\n",
    "df_daily_profiles                                        "
   ]
  },
  {
   "cell_type": "code",
   "execution_count": null,
   "id": "2169fbb6",
   "metadata": {},
   "outputs": [],
   "source": []
  }
 ],
 "metadata": {
  "kernelspec": {
   "display_name": ".venv",
   "language": "python",
   "name": "python3"
  },
  "language_info": {
   "codemirror_mode": {
    "name": "ipython",
    "version": 3
   },
   "file_extension": ".py",
   "mimetype": "text/x-python",
   "name": "python",
   "nbconvert_exporter": "python",
   "pygments_lexer": "ipython3",
   "version": "3.12.3"
  }
 },
 "nbformat": 4,
 "nbformat_minor": 5
}
