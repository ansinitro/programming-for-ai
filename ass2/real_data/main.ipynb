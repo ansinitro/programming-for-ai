{
 "cells": [
  {
   "cell_type": "markdown",
   "id": "7c226414",
   "metadata": {},
   "source": [
    "### Load u.data into Python"
   ]
  },
  {
   "cell_type": "code",
   "execution_count": 1,
   "id": "e3d7f82b",
   "metadata": {},
   "outputs": [
    {
     "name": "stdout",
     "output_type": "stream",
     "text": [
      "   user_id  item_id  rating  timestamp\n",
      "0      196      242       3  881250949\n",
      "1      186      302       3  891717742\n",
      "2       22      377       1  878887116\n",
      "3      244       51       2  880606923\n",
      "4      166      346       1  886397596\n"
     ]
    }
   ],
   "source": [
    "import pandas as pd\n",
    "\n",
    "# Load ratings\n",
    "cols = [\"user_id\", \"item_id\", \"rating\", \"timestamp\"]\n",
    "df = pd.read_csv(\"u.data\", sep=\"\\t\", names=cols)\n",
    "\n",
    "print(df.head())"
   ]
  },
  {
   "cell_type": "markdown",
   "id": "5351e28f",
   "metadata": {},
   "source": [
    "### Pivot to User × Item matrix"
   ]
  },
  {
   "cell_type": "code",
   "execution_count": 2,
   "id": "60098c6a",
   "metadata": {},
   "outputs": [
    {
     "name": "stdout",
     "output_type": "stream",
     "text": [
      "(943, 1682)\n"
     ]
    }
   ],
   "source": [
    "# Create a user-item matrix (943 users × 1682 movies)\n",
    "R_full = df.pivot(index=\"user_id\", columns=\"item_id\", values=\"rating\").fillna(0)\n",
    "\n",
    "print(R_full.shape)  # (943, 1682)"
   ]
  },
  {
   "cell_type": "markdown",
   "id": "4eb9e3dc",
   "metadata": {},
   "source": [
    "### Subsample to 100 × 20"
   ]
  },
  {
   "cell_type": "code",
   "execution_count": 3,
   "id": "ee1d1ccf",
   "metadata": {},
   "outputs": [
    {
     "name": "stdout",
     "output_type": "stream",
     "text": [
      "(100, 20)\n"
     ]
    }
   ],
   "source": [
    "# Select top-20 most rated movies\n",
    "top20_movies = df[\"item_id\"].value_counts().head(20).index\n",
    "\n",
    "# Filter matrix to those movies\n",
    "R_top20 = R_full[top20_movies]\n",
    "\n",
    "# Keep only users who rated at least one of these 20\n",
    "valid_users = R_top20.index[R_top20.sum(axis=1) > 0]\n",
    "R_top20 = R_top20.loc[valid_users]\n",
    "\n",
    "# Select 100 random users (but only those who rated at least some of the top movies)\n",
    "R_subset = R_top20.sample(n=100, random_state=42) # actually for assigment we need `100` users  \n",
    "# R_subset = R_top20.sample(n=len(R_top20), random_state=42) # for fun you can use all possible users (in our case 936)\n",
    "\n",
    "print(R_subset.shape)  # (100, 20)"
   ]
  },
  {
   "cell_type": "markdown",
   "id": "c9b73cd2",
   "metadata": {},
   "source": [
    "### Get your matrix R"
   ]
  },
  {
   "cell_type": "code",
   "execution_count": 4,
   "id": "1b0cbec8",
   "metadata": {},
   "outputs": [
    {
     "name": "stdout",
     "output_type": "stream",
     "text": [
      "(100, 20)\n",
      "        course_0  course_1  course_2  course_3  course_4  course_5  course_6  \\\n",
      "user_0       5.0       0.0       0.0       4.0       0.0       0.0       0.0   \n",
      "user_1       2.0       0.0       5.0       1.0       0.0       0.0       0.0   \n",
      "user_2       5.0       4.0       5.0       4.0       3.0       3.0       4.0   \n",
      "user_3       3.0       0.0       5.0       0.0       0.0       3.0       0.0   \n",
      "user_4       4.0       0.0       0.0       0.0       4.0       0.0       0.0   \n",
      "\n",
      "        course_7  course_8  course_9  course_10  course_11  course_12  \\\n",
      "user_0       3.0       0.0       0.0        4.0        1.0        2.0   \n",
      "user_1       4.0       0.0       3.0        5.0        5.0        5.0   \n",
      "user_2       2.0       0.0       5.0        5.0        5.0        5.0   \n",
      "user_3       0.0       0.0       0.0        0.0        0.0        0.0   \n",
      "user_4       5.0       0.0       0.0        0.0        0.0        4.0   \n",
      "\n",
      "        course_13  course_14  course_15  course_16  course_17  course_18  \\\n",
      "user_0        0.0        5.0        2.0        0.0        4.0        0.0   \n",
      "user_1        1.0        5.0        3.0        4.0        1.0        1.0   \n",
      "user_2        4.0        5.0        0.0        4.0        5.0        3.0   \n",
      "user_3        0.0        0.0        0.0        0.0        0.0        0.0   \n",
      "user_4        0.0        4.0        0.0        0.0        0.0        0.0   \n",
      "\n",
      "        course_19  \n",
      "user_0        3.0  \n",
      "user_1        4.0  \n",
      "user_2        5.0  \n",
      "user_3        0.0  \n",
      "user_4        0.0  \n"
     ]
    }
   ],
   "source": [
    "# Rename for clarity: \"course_i\" and \"user_i\"\n",
    "R_subset.columns = [f\"course_{i}\" for i in range(len(R_subset.columns))]\n",
    "R_subset.index = [f\"user_{i}\" for i in range(len(R_subset.index))]\n",
    "\n",
    "print(R_subset.shape)  # (100, 20)\n",
    "print(R_subset.head())"
   ]
  },
  {
   "cell_type": "code",
   "execution_count": 5,
   "id": "d94b8f00",
   "metadata": {},
   "outputs": [],
   "source": [
    "# Save to CSV\n",
    "R_subset.to_csv(\"user_course_ratings.csv\", index=True)\n"
   ]
  }
 ],
 "metadata": {
  "kernelspec": {
   "display_name": ".venv",
   "language": "python",
   "name": "python3"
  },
  "language_info": {
   "codemirror_mode": {
    "name": "ipython",
    "version": 3
   },
   "file_extension": ".py",
   "mimetype": "text/x-python",
   "name": "python",
   "nbconvert_exporter": "python",
   "pygments_lexer": "ipython3",
   "version": "3.13.7"
  }
 },
 "nbformat": 4,
 "nbformat_minor": 5
}
