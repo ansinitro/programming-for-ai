{
 "cells": [
  {
   "cell_type": "code",
   "execution_count": 66,
   "id": "b6b65d2c",
   "metadata": {},
   "outputs": [],
   "source": [
    "import numpy as np\n",
    "import pandas as pd\n",
    "from sklearn.metrics.pairwise import cosine_similarity\n",
    "import matplotlib.pyplot as plt\n",
    "import seaborn as sns"
   ]
  },
  {
   "cell_type": "code",
   "execution_count": 67,
   "id": "4a36ffc9",
   "metadata": {},
   "outputs": [],
   "source": [
    "np.random.seed(42)\n",
    "\n",
    "R_CSV = \"../gpt_generated_data/user_course_ratings_realistic.csv\"   # path to your prepared 100x20 CSV\n",
    "K = 8                   # latent dimensions\n",
    "LR = 0.01               # learning rate\n",
    "REG = 0.05              # regularization\n",
    "EPOCHS = 50\n",
    "TOP_K = 5               # for precision@5 / recall@5"
   ]
  },
  {
   "cell_type": "markdown",
   "id": "8a00a34c",
   "metadata": {},
   "source": [
    "### Load dataset"
   ]
  },
  {
   "cell_type": "code",
   "execution_count": 88,
   "id": "c92844b9",
   "metadata": {},
   "outputs": [
    {
     "name": "stdout",
     "output_type": "stream",
     "text": [
      "Loaded R shape: (100, 20)\n"
     ]
    }
   ],
   "source": [
    "ratings_df = pd.read_csv(R_CSV, index_col=0)   \n",
    "R = ratings_df.values.astype(float)            \n",
    "users = ratings_df.index.to_list()\n",
    "items = ratings_df.columns.to_list()\n",
    "n_users, n_items = R.shape\n",
    "print(\"Loaded R shape:\", R.shape)\n"
   ]
  },
  {
   "cell_type": "markdown",
   "id": "16fb5794",
   "metadata": {},
   "source": [
    "#### Helper: nonzero indices"
   ]
  },
  {
   "cell_type": "code",
   "execution_count": 91,
   "id": "0b96f768",
   "metadata": {},
   "outputs": [
    {
     "name": "stdout",
     "output_type": "stream",
     "text": [
      "Nonzero ratings count: 698\n"
     ]
    },
    {
     "data": {
      "text/plain": [
       "array([[ 0,  0,  0, ..., 99, 99, 99],\n",
       "       [ 3,  5,  8, ..., 10, 11, 18]], shape=(2, 698))"
      ]
     },
     "execution_count": 91,
     "metadata": {},
     "output_type": "execute_result"
    }
   ],
   "source": [
    "nonzero_positions = np.array(np.nonzero(R)).T   # list of (u,i) with R[u,i] != 0\n",
    "print(\"Nonzero ratings count:\", nonzero_positions.shape[0])\n",
    "np.array(np.nonzero(R))"
   ]
  },
  {
   "cell_type": "markdown",
   "id": "e3a7349d",
   "metadata": {},
   "source": [
    "#### Train/test split on nonzero entries"
   ]
  },
  {
   "cell_type": "code",
   "execution_count": 70,
   "id": "e4a6021d",
   "metadata": {},
   "outputs": [
    {
     "name": "stdout",
     "output_type": "stream",
     "text": [
      "Train nonzero: 559 Test nonzero: 139\n"
     ]
    }
   ],
   "source": [
    "def train_test_split_nonzero(R, test_frac=0.2, random_state=42):\n",
    "    rng = np.random.RandomState(random_state)\n",
    "    u_idx, i_idx = np.nonzero(R)\n",
    "    pairs = list(zip(u_idx, i_idx))\n",
    "    rng.shuffle(pairs)\n",
    "    n_test = int(len(pairs) * test_frac)\n",
    "    test_pairs = pairs[:n_test]\n",
    "    train_pairs = pairs[n_test:]\n",
    "    R_train = np.zeros_like(R)\n",
    "    R_test = np.zeros_like(R)\n",
    "    for (u, i) in train_pairs:\n",
    "        R_train[u, i] = R[u, i]\n",
    "    for (u, i) in test_pairs:\n",
    "        R_test[u, i] = R[u, i]\n",
    "    return R_train, R_test, train_pairs, test_pairs\n",
    "\n",
    "R_train, R_test, train_pairs, test_pairs = train_test_split_nonzero(R, test_frac=0.2, random_state=42)\n",
    "print(\"Train nonzero:\", len(train_pairs), \"Test nonzero:\", len(test_pairs))\n"
   ]
  },
  {
   "cell_type": "markdown",
   "id": "2dc3f0c8",
   "metadata": {},
   "source": [
    "### Matrix Factorization via SGD"
   ]
  },
  {
   "cell_type": "code",
   "execution_count": 103,
   "id": "f79f1012",
   "metadata": {},
   "outputs": [
    {
     "name": "stdout",
     "output_type": "stream",
     "text": [
      "Epoch 1/50 RMSE(train) = 3.6945\n",
      "Epoch 6/50 RMSE(train) = 3.1887\n",
      "Epoch 11/50 RMSE(train) = 0.8943\n",
      "Epoch 16/50 RMSE(train) = 0.5543\n",
      "Epoch 21/50 RMSE(train) = 0.5049\n",
      "Epoch 26/50 RMSE(train) = 0.4828\n",
      "Epoch 31/50 RMSE(train) = 0.4640\n",
      "Epoch 36/50 RMSE(train) = 0.4467\n",
      "Epoch 41/50 RMSE(train) = 0.4301\n",
      "Epoch 46/50 RMSE(train) = 0.4130\n",
      "Epoch 50/50 RMSE(train) = 0.3991\n"
     ]
    }
   ],
   "source": [
    "def matrix_factorization_sgd(R_train, k=8, lr=0.01, reg=0.02, epochs=50, verbose=True):\n",
    "    n_users, n_items = R_train.shape\n",
    "    # Initialize P and Q with small random values\n",
    "    P = 0.1 * np.random.randn(n_users, k)\n",
    "    Q = 0.1 * np.random.randn(n_items, k)\n",
    "\n",
    "    # Precompute list of observed indices\n",
    "    obs = list(zip(*np.nonzero(R_train)))\n",
    "    rmse_hist = []\n",
    "    for ep in range(epochs):\n",
    "        np.random.shuffle(obs)\n",
    "        for (u, i) in obs:\n",
    "            r_ui = R_train[u, i]\n",
    "            pred = P[u, :].dot(Q[i, :])\n",
    "            e = r_ui - pred\n",
    "            # SGD updates with regularization\n",
    "            P[u, :] += lr * (e * Q[i, :] - reg * P[u, :])\n",
    "            Q[i, :] += lr * (e * P[u, :] - reg * Q[i, :])\n",
    "        # compute RMSE on train observed entries\n",
    "        preds = P.dot(Q.T)\n",
    "        mask = (R_train > 0)\n",
    "        se = ((mask * (R_train - preds)) ** 2).sum()\n",
    "        n_obs = mask.sum()\n",
    "        rmse = np.sqrt(se / n_obs) if n_obs>0 else np.nan\n",
    "        rmse_hist.append(rmse)\n",
    "        if verbose and (ep % max(1, epochs//10) == 0 or ep==epochs-1):\n",
    "            print(f\"Epoch {ep+1}/{epochs} RMSE(train) = {rmse:.4f}\")\n",
    "    return P, Q, rmse_hist\n",
    "\n",
    "P, Q, rmse_hist = matrix_factorization_sgd(R_train, k=K, lr=LR, reg=REG, epochs=EPOCHS, verbose=True)\n"
   ]
  },
  {
   "cell_type": "markdown",
   "id": "120eb83e",
   "metadata": {},
   "source": [
    "### Predictions"
   ]
  },
  {
   "cell_type": "code",
   "execution_count": 106,
   "id": "4ef8cd4d",
   "metadata": {},
   "outputs": [],
   "source": [
    "R_hat = P.dot(Q.T)"
   ]
  },
  {
   "cell_type": "markdown",
   "id": "391685d8",
   "metadata": {},
   "source": [
    "### User-based CF & Item-based CF implementations"
   ]
  },
  {
   "cell_type": "code",
   "execution_count": 73,
   "id": "1834928f",
   "metadata": {},
   "outputs": [],
   "source": [
    "# We'll use cosine similarity.\n",
    "def user_based_predict(R_train):\n",
    "    # user-user similarity\n",
    "    sim = cosine_similarity(R_train)\n",
    "    # zero diag\n",
    "    np.fill_diagonal(sim, 0)\n",
    "    # predict: weighted sum normalized by abs(sim) sum\n",
    "    pred = sim.dot(R_train)\n",
    "    denom = np.abs(sim).sum(axis=1, keepdims=True)\n",
    "    denom[denom == 0] = 1e-9\n",
    "    pred = pred / denom\n",
    "    return pred\n",
    "\n",
    "def item_based_predict(R_train):\n",
    "    # item-item similarity\n",
    "    sim_items = cosine_similarity(R_train.T)\n",
    "    np.fill_diagonal(sim_items, 0)\n",
    "    pred = R_train.dot(sim_items)\n",
    "    denom = np.abs(sim_items).sum(axis=1, keepdims=True).T  # shape (n_users, n_items)\n",
    "    denom[denom == 0] = 1e-9\n",
    "    pred = pred / denom\n",
    "    return pred\n",
    "\n",
    "R_hat_user = user_based_predict(R_train)\n",
    "R_hat_item = item_based_predict(R_train)\n"
   ]
  },
  {
   "cell_type": "markdown",
   "id": "d7fd9357",
   "metadata": {},
   "source": [
    "### Recommendation function (top-k unseen)"
   ]
  },
  {
   "cell_type": "code",
   "execution_count": 74,
   "id": "38a92863",
   "metadata": {},
   "outputs": [
    {
     "name": "stdout",
     "output_type": "stream",
     "text": [
      "MF top-5 for user 0: [17 10 19  8 15]\n",
      "UserCF top-5 for user 0: [ 8 17 18  1  0]\n",
      "ItemCF top-5 for user 0: [18  1  8 14  6]\n"
     ]
    }
   ],
   "source": [
    "def top_k_recommendations_for_user(pred_matrix, R_seen, user_idx, k=5):\n",
    "    preds = pred_matrix[user_idx].copy()\n",
    "    # mask seen items\n",
    "    seen = R_seen[user_idx] > 0\n",
    "    preds[seen] = -np.inf\n",
    "    topk_idx = np.argsort(preds)[-k:][::-1]\n",
    "    return topk_idx\n",
    "\n",
    "# Example: recommendations for user 0\n",
    "print(\"MF top-5 for user 0:\", top_k_recommendations_for_user(R_hat, R_train, 0, k=5))\n",
    "print(\"UserCF top-5 for user 0:\", top_k_recommendations_for_user(R_hat_user, R_train, 0, k=5))\n",
    "print(\"ItemCF top-5 for user 0:\", top_k_recommendations_for_user(R_hat_item, R_train, 0, k=5))"
   ]
  },
  {
   "cell_type": "markdown",
   "id": "2ba2bc83",
   "metadata": {},
   "source": [
    "### Evaluation: RMSE on test set"
   ]
  },
  {
   "cell_type": "code",
   "execution_count": 75,
   "id": "d141e5c0",
   "metadata": {},
   "outputs": [
    {
     "name": "stdout",
     "output_type": "stream",
     "text": [
      "\n",
      "Test RMSEs:\n",
      "MF: 0.7489188262014799\n",
      "UserCF: 2.7049247699759595\n",
      "ItemCF: 2.69536570681079\n"
     ]
    }
   ],
   "source": [
    "def rmse_on_masked(R_true, R_pred, mask):\n",
    "    se = ((mask * (R_true - R_pred)) ** 2).sum()\n",
    "    n = mask.sum()\n",
    "    return np.sqrt(se / n) if n>0 else np.nan\n",
    "\n",
    "test_mask = (R_test > 0)\n",
    "rmse_mf_test = rmse_on_masked(R_test, R_hat, test_mask)\n",
    "rmse_user_test = rmse_on_masked(R_test, R_hat_user, test_mask)\n",
    "rmse_item_test = rmse_on_masked(R_test, R_hat_item, test_mask)\n",
    "print(\"\\nTest RMSEs:\")\n",
    "print(\"MF:\", rmse_mf_test)\n",
    "print(\"UserCF:\", rmse_user_test)\n",
    "print(\"ItemCF:\", rmse_item_test)\n"
   ]
  },
  {
   "cell_type": "markdown",
   "id": "992a73df",
   "metadata": {},
   "source": [
    "### Precision@K and Recall@K"
   ]
  },
  {
   "cell_type": "code",
   "execution_count": 76,
   "id": "93d35cfe",
   "metadata": {},
   "outputs": [
    {
     "name": "stdout",
     "output_type": "stream",
     "text": [
      "\n",
      "Precision@5 / Recall@5:\n",
      "MF:   prec=0.0760, rec=0.2200\n",
      "User: prec=0.0640, rec=0.2133\n",
      "Item: prec=0.0960, rec=0.3067\n"
     ]
    }
   ],
   "source": [
    "def precision_recall_at_k(R_true, R_pred, k=5, threshold=4):\n",
    "    \"\"\"\n",
    "    Compute precision@k and recall@k.\n",
    "    Relevant items are those with rating >= threshold in R_true.\n",
    "    \"\"\"\n",
    "    precisions, recalls = [], []\n",
    "\n",
    "    n_users, n_items = R_true.shape\n",
    "    for u in range(n_users):\n",
    "        # true relevant items\n",
    "        relevant = np.where(R_true[u, :] >= threshold)[0]\n",
    "        if len(relevant) == 0:\n",
    "            continue  # skip if user has no relevant items\n",
    "\n",
    "        # predicted top-k\n",
    "        top_k = np.argsort(R_pred[u, :])[::-1][:k]\n",
    "\n",
    "        # intersection\n",
    "        hits = np.intersect1d(top_k, relevant)\n",
    "\n",
    "        # precision = hits / k\n",
    "        precisions.append(len(hits) / k)\n",
    "\n",
    "        # recall = hits / relevant items\n",
    "        recalls.append(len(hits) / len(relevant))\n",
    "\n",
    "    return np.mean(precisions), np.mean(recalls)\n",
    "\n",
    "prec_mf, rec_mf = precision_recall_at_k(R_test, R_hat, k=TOP_K, threshold=4)\n",
    "prec_user, rec_user = precision_recall_at_k(R_test, R_hat_user, k=TOP_K, threshold=4)\n",
    "prec_item, rec_item = precision_recall_at_k(R_test, R_hat_item, k=TOP_K, threshold=4)\n",
    "\n",
    "print(\"\\nPrecision@5 / Recall@5:\")\n",
    "print(f\"MF:   prec={prec_mf:.4f}, rec={rec_mf:.4f}\")\n",
    "print(f\"User: prec={prec_user:.4f}, rec={rec_user:.4f}\")\n",
    "print(f\"Item: prec={prec_item:.4f}, rec={rec_item:.4f}\")"
   ]
  },
  {
   "cell_type": "markdown",
   "id": "213631e6",
   "metadata": {},
   "source": [
    "### Compare recommendation lists for 5 random users"
   ]
  },
  {
   "cell_type": "code",
   "execution_count": 107,
   "id": "86c8792b",
   "metadata": {},
   "outputs": [
    {
     "name": "stdout",
     "output_type": "stream",
     "text": [
      "\n",
      "Recommendations (5 sample users):\n",
      "      user                                                 mf                                             usercf  \\\n",
      "0  user_80  [course_10, course_17, course_15, course_19, c...  [course_8, course_17, course_19, course_0, cou...   \n",
      "1  user_84  [course_10, course_16, course_14, course_11, c...  [course_11, course_8, course_7, course_12, cou...   \n",
      "2  user_33  [course_10, course_17, course_18, course_19, c...  [course_11, course_9, course_0, course_17, cou...   \n",
      "3  user_81  [course_10, course_17, course_19, course_18, c...  [course_11, course_0, course_17, course_9, cou...   \n",
      "4  user_93  [course_17, course_10, course_15, course_18, c...  [course_9, course_17, course_8, course_18, cou...   \n",
      "\n",
      "                                              itemcf  \n",
      "0  [course_18, course_17, course_5, course_19, co...  \n",
      "1  [course_12, course_10, course_8, course_13, co...  \n",
      "2  [course_11, course_10, course_12, course_2, co...  \n",
      "3  [course_0, course_18, course_10, course_9, cou...  \n",
      "4  [course_4, course_5, course_15, course_14, cou...  \n"
     ]
    }
   ],
   "source": [
    "rng = np.random.RandomState(1)\n",
    "sample_users = rng.choice(n_users, size=5, replace=False)\n",
    "rec_table = []\n",
    "for u in sample_users:\n",
    "    rec_mf_c = top_k_recommendations_for_user(R_hat, R_train, u, k=TOP_K)\n",
    "    rec_usercf = top_k_recommendations_for_user(R_hat_user, R_train, u, k=TOP_K)\n",
    "    rec_itemcf = top_k_recommendations_for_user(R_hat_item, R_train, u, k=TOP_K)\n",
    "    rec_table.append({\n",
    "        \"user\": users[u],\n",
    "        \"mf\": [items[i] for i in rec_mf_c],\n",
    "        \"usercf\": [items[i] for i in rec_usercf],\n",
    "        \"itemcf\": [items[i] for i in rec_itemcf]\n",
    "    })\n",
    "\n",
    "import json\n",
    "with open(\"recommendations.json\", \"w\") as f:\n",
    "    json.dump(rec_table, f, indent=4)\n",
    "\n",
    "pd.set_option('display.width', 120)\n",
    "print(\"\\nRecommendations (5 sample users):\")\n",
    "print(pd.DataFrame(rec_table))"
   ]
  },
  {
   "cell_type": "markdown",
   "id": "f66bde39",
   "metadata": {},
   "source": [
    "### Factor interpretation"
   ]
  },
  {
   "cell_type": "code",
   "execution_count": null,
   "id": "6f9181f9",
   "metadata": {},
   "outputs": [
    {
     "name": "stdout",
     "output_type": "stream",
     "text": [
      "\n",
      "Top-3 items per latent factor:\n",
      "factor_0 ['course_16', 'course_10', 'course_2']\n",
      "factor_1 ['course_19', 'course_14', 'course_18']\n",
      "factor_2 ['course_3', 'course_17', 'course_14']\n",
      "factor_3 ['course_10', 'course_15', 'course_8']\n",
      "factor_4 ['course_18', 'course_1', 'course_11']\n",
      "factor_5 ['course_1', 'course_8', 'course_9']\n",
      "factor_6 ['course_0', 'course_2', 'course_16']\n",
      "factor_7 ['course_11', 'course_17', 'course_4']\n"
     ]
    },
    {
     "data": {
      "image/png": "[encoded data removed]",
      "text/plain": [
       "<Figure size 800x600 with 2 Axes>"
      ]
     },
     "metadata": {},
     "output_type": "display_data"
    }
   ],
   "source": [
    "n_factors = Q.shape[1]\n",
    "factor_topk = {}\n",
    "for j in range(n_factors):\n",
    "    top3 = np.argsort(Q[:, j])[-3:][::-1]\n",
    "    factor_topk[f\"factor_{j}\"] = [items[i] for i in top3]\n",
    "print(\"\\nTop-3 items per latent factor:\")\n",
    "for kf, top_items in factor_topk.items():\n",
    "    print(kf, top_items)\n",
    "\n",
    "# Heatmap of Q (courses × factors)\n",
    "plt.figure(figsize=(8, 6))\n",
    "sns.heatmap(Q, cmap=\"viridis\", yticklabels=items, xticklabels=[f\"f{j}\" for j in range(Q.shape[1])])\n",
    "plt.title(\"Item factors Q (courses × factors)\")\n",
    "plt.xlabel(\"Factors\")\n",
    "plt.ylabel(\"Courses (items)\")\n",
    "plt.tight_layout()\n",
    "plt.show()"
   ]
  },
  {
   "cell_type": "markdown",
   "id": "6842e930",
   "metadata": {},
   "source": [
    "### Plot RMSE history"
   ]
  },
  {
   "cell_type": "code",
   "execution_count": 79,
   "id": "e02545ef",
   "metadata": {},
   "outputs": [
    {
     "data": {
      "image/png": "[encoded data removed]",
      "text/plain": [
       "<Figure size 600x400 with 1 Axes>"
      ]
     },
     "metadata": {},
     "output_type": "display_data"
    }
   ],
   "source": [
    "plt.figure(figsize=(6,4))\n",
    "plt.plot(rmse_hist, marker='o')\n",
    "plt.xlabel(\"Epoch\")\n",
    "plt.ylabel(\"Train RMSE\")\n",
    "plt.title(\"MF training RMSE by epoch\")\n",
    "plt.grid(True)\n",
    "plt.tight_layout()\n",
    "plt.show()"
   ]
  },
  {
   "cell_type": "markdown",
   "id": "b437071b",
   "metadata": {},
   "source": [
    "### Final metrics table"
   ]
  },
  {
   "cell_type": "code",
   "execution_count": 80,
   "id": "088a3c25",
   "metadata": {},
   "outputs": [
    {
     "name": "stdout",
     "output_type": "stream",
     "text": [
      "\n",
      "Metrics summary:\n",
      "                method  rmse_test  prec@5  recall@5\n",
      "0  MatrixFactorization   0.748919   0.076  0.220000\n",
      "1               UserCF   2.704925   0.064  0.213333\n",
      "2               ItemCF   2.695366   0.096  0.306667\n"
     ]
    }
   ],
   "source": [
    "metrics = pd.DataFrame({\n",
    "    \"method\": [\"MatrixFactorization\", \"UserCF\", \"ItemCF\"],\n",
    "    \"rmse_test\": [rmse_mf_test, rmse_user_test, rmse_item_test],\n",
    "    \"prec@5\": [prec_mf, prec_user, prec_item],\n",
    "    \"recall@5\": [rec_mf, rec_user, rec_item]\n",
    "})\n",
    "print(\"\\nMetrics summary:\")\n",
    "print(metrics)\n"
   ]
  },
  {
   "cell_type": "code",
   "execution_count": null,
   "id": "1af37e63",
   "metadata": {},
   "outputs": [],
   "source": []
  }
 ],
 "metadata": {
  "kernelspec": {
   "display_name": "Python 3",
   "language": "python",
   "name": "python3"
  },
  "language_info": {
   "codemirror_mode": {
    "name": "ipython",
    "version": 3
   },
   "file_extension": ".py",
   "mimetype": "text/x-python",
   "name": "python",
   "nbconvert_exporter": "python",
   "pygments_lexer": "ipython3",
   "version": "3.14.0"
  }
 },
 "nbformat": 4,
 "nbformat_minor": 5
}
