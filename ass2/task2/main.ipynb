{
 "cells": [
  {
   "cell_type": "code",
   "execution_count": 1,
   "id": "5b605e42",
   "metadata": {},
   "outputs": [],
   "source": [
    "import numpy as np"
   ]
  },
  {
   "cell_type": "markdown",
   "id": "4258cd49",
   "metadata": {},
   "source": [
    "### Creating the adjacency matrix"
   ]
  },
  {
   "cell_type": "code",
   "execution_count": 2,
   "id": "af61d44c",
   "metadata": {},
   "outputs": [
    {
     "name": "stdout",
     "output_type": "stream",
     "text": [
      "Adjacency matrix A:\n",
      " [[0 1 0 0 0 1]\n",
      " [1 0 0 1 0 0]\n",
      " [0 0 0 0 1 1]\n",
      " [0 1 0 0 1 1]\n",
      " [0 0 1 1 0 1]\n",
      " [1 0 1 1 1 0]]\n"
     ]
    }
   ],
   "source": [
    "np.random.seed(42)\n",
    "N = 6\n",
    "# random upper triangle of matrix (0/1 connections)\n",
    "upper = np.random.randint(0, 2, size=(N, N))\n",
    "A = np.triu(upper, 1)  # keep only upper triangle, remove diagonal\n",
    "A = A + A.T            # make it symmetric\n",
    "print(\"Adjacency matrix A:\\n\", A)"
   ]
  },
  {
   "cell_type": "markdown",
   "id": "1cf9bfc2",
   "metadata": {},
   "source": [
    "### Vertex degrees"
   ]
  },
  {
   "cell_type": "code",
   "execution_count": 3,
   "id": "63f08056",
   "metadata": {},
   "outputs": [
    {
     "name": "stdout",
     "output_type": "stream",
     "text": [
      "Degrees: [2 2 2 3 3 4]\n",
      "User with most connections: 5 with degree 4\n"
     ]
    }
   ],
   "source": [
    "degrees = A.sum(axis=1)\n",
    "print(\"Degrees:\", degrees)\n",
    "\n",
    "max_user = np.argmax(degrees)\n",
    "print(\"User with most connections:\", max_user, \"with degree\", degrees[max_user])\n"
   ]
  },
  {
   "cell_type": "markdown",
   "id": "d09a79d5",
   "metadata": {},
   "source": [
    "### Matrix of paths of length 2"
   ]
  },
  {
   "cell_type": "code",
   "execution_count": 4,
   "id": "a8834ac8",
   "metadata": {},
   "outputs": [
    {
     "name": "stdout",
     "output_type": "stream",
     "text": [
      "A^2:\n",
      " [[2 0 1 2 1 0]\n",
      " [0 2 0 0 1 2]\n",
      " [1 0 2 2 1 1]\n",
      " [2 0 2 3 1 1]\n",
      " [1 1 1 1 3 2]\n",
      " [0 2 1 1 2 4]]\n"
     ]
    }
   ],
   "source": [
    "A2 = np.dot(A, A)\n",
    "print(\"A^2:\\n\", A2)"
   ]
  },
  {
   "cell_type": "markdown",
   "id": "6b1a7abe",
   "metadata": {},
   "source": [
    "### Indirect friends (friends-of-friends)"
   ]
  },
  {
   "cell_type": "code",
   "execution_count": 5,
   "id": "20676d6b",
   "metadata": {},
   "outputs": [
    {
     "name": "stdout",
     "output_type": "stream",
     "text": [
      "Indirect friends count: [3 2 2 2 2 1]\n"
     ]
    }
   ],
   "source": [
    "# Boolean mask of reachable in 2 steps\n",
    "friends_of_friends = (A2 > 0)\n",
    "\n",
    "# remove direct friends and self\n",
    "indirect = friends_of_friends & (A == 0) & (~np.eye(N, dtype=bool))\n",
    "counts_indirect = indirect.sum(axis=1)\n",
    "print(\"Indirect friends count:\", counts_indirect)"
   ]
  },
  {
   "cell_type": "markdown",
   "id": "12607102",
   "metadata": {},
   "source": [
    "### Eigenvalues & Spectral Radius"
   ]
  },
  {
   "cell_type": "code",
   "execution_count": 6,
   "id": "c243f5c4",
   "metadata": {},
   "outputs": [
    {
     "name": "stdout",
     "output_type": "stream",
     "text": [
      "Eigenvalues: [ 2.85291736  1.05542279 -2.15843759  0.18300709 -1.2718488  -0.66106085]\n",
      "Spectral radius: 2.852917361961511\n"
     ]
    }
   ],
   "source": [
    "eigvals = np.linalg.eigvals(A)\n",
    "spectral_radius = np.max(np.abs(eigvals))\n",
    "\n",
    "print(\"Eigenvalues:\", eigvals)\n",
    "print(\"Spectral radius:\", spectral_radius)"
   ]
  }
 ],
 "metadata": {
  "kernelspec": {
   "display_name": ".venv",
   "language": "python",
   "name": "python3"
  },
  "language_info": {
   "codemirror_mode": {
    "name": "ipython",
    "version": 3
   },
   "file_extension": ".py",
   "mimetype": "text/x-python",
   "name": "python",
   "nbconvert_exporter": "python",
   "pygments_lexer": "ipython3",
   "version": "3.12.3"
  }
 },
 "nbformat": 4,
 "nbformat_minor": 5
}
