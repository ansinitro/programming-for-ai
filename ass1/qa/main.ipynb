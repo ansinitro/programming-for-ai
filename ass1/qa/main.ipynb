{
 "cells": [
  {
   "cell_type": "markdown",
   "id": "939123ad",
   "metadata": {},
   "source": [
    "### 1. How to open a file for reading and writing in Python"
   ]
  },
  {
   "cell_type": "code",
   "execution_count": null,
   "id": "67e7620e",
   "metadata": {},
   "outputs": [],
   "source": [
    "# Reading\n",
    "with open('file.txt', 'r') as f:\n",
    "    content = f.read()\n",
    "\n",
    "# Writing\n",
    "with open('file.txt', 'w') as f:\n",
    "    f.write('content')\n",
    "\n",
    "# Reading and writing\n",
    "with open('file.txt', 'r+') as f:\n",
    "    content = f.read()\n",
    "    f.write('new content')"
   ]
  },
  {
   "cell_type": "markdown",
   "id": "2a28b278",
   "metadata": {},
   "source": [
    "### 2. Difference between file opening modes\n",
    "\n",
    "- 'r': Read mode (default)\n",
    "- 'w': Write mode (overwrites existing file)\n",
    "- 'a': Append mode (adds to end of file)\n",
    "- 'rb': Read binary mode\n",
    "- 'wb': Write binary mode"
   ]
  },
  {
   "cell_type": "markdown",
   "id": "7cd2c005",
   "metadata": {},
   "source": [
    "### 3. Advantage of using with open(...) as f: construct\n",
    "- It automatically handles file closing, even if exceptions occur, preventing resource leaks."
   ]
  },
  {
   "cell_type": "markdown",
   "id": "5871a038",
   "metadata": {},
   "source": [
    "### 4. How to close a file correctly and why it's important\n",
    "- Use the close() method or the with statement. It's important to free up system resources and ensure all data is properly written to disk."
   ]
  },
  {
   "cell_type": "markdown",
   "id": "28d50e1c",
   "metadata": {},
   "source": [
    "### 5. Main functions of the os module for working with directories"
   ]
  },
  {
   "cell_type": "code",
   "execution_count": null,
   "id": "b9ddef55",
   "metadata": {},
   "outputs": [],
   "source": [
    "import os\n",
    "os.mkdir()      # Create directory\n",
    "os.makedirs()   # Create directories recursively\n",
    "os.rmdir()      # Remove directory\n",
    "os.listdir()    # List directory contents\n",
    "os.chdir()      # Change current directory\n",
    "os.getcwd()     # Get current directory"
   ]
  },
  {
   "cell_type": "markdown",
   "id": "19940cfd",
   "metadata": {},
   "source": [
    "### 6. How to create a new folder or delete an existing one"
   ]
  },
  {
   "cell_type": "code",
   "execution_count": null,
   "id": "87d4c01f",
   "metadata": {},
   "outputs": [],
   "source": [
    "import os\n",
    "os.mkdir('new_folder')  # Create\n",
    "os.rmdir('folder')      # Delete (must be empty)"
   ]
  },
  {
   "cell_type": "markdown",
   "id": "d2795314",
   "metadata": {},
   "source": [
    "### 7. Difference between os.getcwd() and os.chdir()\n",
    "-  `os.getcwd()`: Gets the current working directory- \n",
    "-  `os.chdir()`: Changes the current working directory"
   ]
  },
  {
   "cell_type": "markdown",
   "id": "3874b88a",
   "metadata": {},
   "source": [
    "### 8. How to get a list of files and folders in a directory"
   ]
  },
  {
   "cell_type": "code",
   "execution_count": null,
   "id": "6be06477",
   "metadata": {},
   "outputs": [],
   "source": [
    "import os\n",
    "contents = os.listdir('path/to/directory')"
   ]
  },
  {
   "cell_type": "markdown",
   "id": "1e09fc26",
   "metadata": {},
   "source": [
    "### 9. What the os.path module is used for\n",
    "- It provides functions for manipulating file paths in a platform-independent way."
   ]
  },
  {
   "cell_type": "markdown",
   "id": "ad4cbda0",
   "metadata": {},
   "source": [
    "### 10. How to check if a file or folder exists"
   ]
  },
  {
   "cell_type": "code",
   "execution_count": null,
   "id": "8aa5c64f",
   "metadata": {},
   "outputs": [],
   "source": [
    "import os\n",
    "os.path.exists('path/to/file_or_folder')\n",
    "os.path.isfile('path/to/file')\n",
    "os.path.isdir('path/to/folder')"
   ]
  },
  {
   "cell_type": "markdown",
   "id": "4f2962e0",
   "metadata": {},
   "source": [
    "### 11. How pathlib is more convenient than os.path\n",
    "- pathlib provides an object-oriented approach to path manipulation, making code more readable and easier to maintain"
   ]
  },
  {
   "cell_type": "markdown",
   "id": "281876ec",
   "metadata": {},
   "source": [
    "### 12. How to combine file paths in a cross-platform style"
   ]
  },
  {
   "cell_type": "code",
   "execution_count": null,
   "id": "c9e9e8bd",
   "metadata": {},
   "outputs": [],
   "source": [
    "from pathlib import Path\n",
    "path = Path('folder') / 'subfolder' / 'file.txt'"
   ]
  },
  {
   "cell_type": "markdown",
   "id": "1dc1ffc6",
   "metadata": {},
   "source": [
    "### 13. Python methods to read a CSV file\n",
    "- Using the csv module\n",
    "- Using pandas: pd.read_csv()\n",
    "- Manual parsing with string splitting"
   ]
  },
  {
   "cell_type": "markdown",
   "id": "715dead0",
   "metadata": {},
   "source": [
    "### 14. How the csv module is useful compared to line-by-line reading\n",
    "- It handles edge cases like quoted fields, commas within fields, and different line endings automatically."
   ]
  },
  {
   "cell_type": "markdown",
   "id": "caa1ece8",
   "metadata": {},
   "source": [
    "### 15. How to serialize Python data to JSON format"
   ]
  },
  {
   "cell_type": "code",
   "execution_count": null,
   "id": "1d907398",
   "metadata": {},
   "outputs": [],
   "source": [
    "import json\n",
    "data = {'key': 'value'}\n",
    "json_string = json.dumps(data)  # To string\n",
    "with open('file.json', 'w') as f:\n",
    "    json.dump(data, f)  # To file"
   ]
  },
  {
   "cell_type": "markdown",
   "id": "dc340f24",
   "metadata": {},
   "source": [
    "### 16. Difference between working with JSON and CSV\n",
    "- JSON: Hierarchical data structure, supports nested data\n",
    "- CSV: Tabular data structure, better for spreadsheet-like data"
   ]
  },
  {
   "cell_type": "markdown",
   "id": "2dc9444d",
   "metadata": {},
   "source": [
    "### 17. Python data types that can be directly stored in JSON\n",
    "- Strings\n",
    "- Numbers\n",
    "- Booleans\n",
    "- Lists\n",
    "- Dictionaries\n",
    "- None"
   ]
  },
  {
   "cell_type": "markdown",
   "id": "909bf6c8",
   "metadata": {},
   "source": [
    "### 18. What lazy loading is and why it's needed\n",
    "- Lazy loading means loading data only when it's needed. It's important for handling large files without consuming excessive memory."
   ]
  },
  {
   "cell_type": "markdown",
   "id": "e6d6a1f0",
   "metadata": {},
   "source": [
    "### 19. How to read a large file line-by-line without loading it completely into memory"
   ]
  },
  {
   "cell_type": "code",
   "execution_count": null,
   "id": "8c686c2c",
   "metadata": {},
   "outputs": [],
   "source": [
    "with open('large_file.txt', 'r') as f:\n",
    "    for line in f:\n",
    "        process(line)"
   ]
  },
  {
   "cell_type": "markdown",
   "id": "9e1afc9b",
   "metadata": {},
   "source": [
    "### 20. Use of the readline() method and iterating over a file object\n",
    "\n",
    "- readline(): Reads a single line from the file\n",
    "- Iterating over a file object: Efficiently processes the file line by line"
   ]
  },
  {
   "cell_type": "markdown",
   "id": "5e98c6b3",
   "metadata": {},
   "source": [
    "### 21. When to use generators when working with files\n",
    "- Use generators when processing large files to avoid loading the entire file into memory at once."
   ]
  },
  {
   "cell_type": "markdown",
   "id": "8dc6da74",
   "metadata": {},
   "source": [
    "### 22. Python modules for working with archives (.zip, .tar)\n",
    "- zipfile for ZIP archives\n",
    "- tarfile for TAR archives"
   ]
  },
  {
   "cell_type": "markdown",
   "id": "166378d1",
   "metadata": {},
   "source": [
    "### 23. How to create a zip archive using Python"
   ]
  },
  {
   "cell_type": "code",
   "execution_count": null,
   "id": "8d4fc3ce",
   "metadata": {},
   "outputs": [],
   "source": [
    "import zipfile\n",
    "with zipfile.ZipFile('archive.zip', 'w') as zf:\n",
    "    zf.write('file.txt')"
   ]
  },
  {
   "cell_type": "markdown",
   "id": "4a974d14",
   "metadata": {},
   "source": [
    "### 24. How to unzip an archive to a specified directory"
   ]
  },
  {
   "cell_type": "code",
   "execution_count": null,
   "id": "c4919ee5",
   "metadata": {},
   "outputs": [],
   "source": [
    "import zipfile\n",
    "with zipfile.ZipFile('archive.zip', 'r') as zf:\n",
    "    zf.extractall('target_directory')"
   ]
  },
  {
   "cell_type": "markdown",
   "id": "dad15950",
   "metadata": {},
   "source": [
    "### 25. Features of working with binary files\n",
    "- Open with 'rb' or 'wb' mode\n",
    "- Data is read/written as bytes objects\n",
    "- No encoding/decoding is performed\n",
    "- File pointer position matters for certain operations"
   ]
  },
  {
   "cell_type": "markdown",
   "id": "57619368",
   "metadata": {},
   "source": []
  }
 ],
 "metadata": {
  "kernelspec": {
   "display_name": ".venv",
   "language": "python",
   "name": "python3"
  },
  "language_info": {
   "codemirror_mode": {
    "name": "ipython",
    "version": 3
   },
   "file_extension": ".py",
   "mimetype": "text/x-python",
   "name": "python",
   "nbconvert_exporter": "python",
   "pygments_lexer": "ipython3",
   "version": "3.12.3"
  }
 },
 "nbformat": 4,
 "nbformat_minor": 5
}
