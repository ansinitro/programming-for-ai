{
 "cells": [
  {
   "cell_type": "code",
   "execution_count": null,
   "id": "66d8be3b",
   "metadata": {},
   "outputs": [],
   "source": [
    "import re\n",
    "from pathlib import Path"
   ]
  },
  {
   "cell_type": "code",
   "execution_count": null,
   "id": "2ed8ff42",
   "metadata": {},
   "outputs": [],
   "source": [
    "def analyze_text_file(file_path):\n",
    "    \"\"\"\n",
    "    Analyze a text file and return statistics including:\n",
    "    - Number of Latin alphabet letters\n",
    "    - Number of words\n",
    "    - Number of lines\n",
    "    \"\"\"\n",
    "    try:\n",
    "        with open(file_path, 'r', encoding='utf-8') as f:\n",
    "            content = f.read()\n",
    "        \n",
    "        # Count Latin alphabet letters (a-z, A-Z)\n",
    "        latin_letters = re.findall(r'[a-zA-Z]', content)\n",
    "        letter_count = len(latin_letters)\n",
    "        \n",
    "        # Count words (sequences of letters separated by whitespace)\n",
    "        words = re.findall(r'\\b[a-zA-Z]+\\b', content)\n",
    "        word_count = len(words)\n",
    "        \n",
    "        # Count lines\n",
    "        lines = content.split('\\n')\n",
    "        line_count = len(lines)\n",
    "        \n",
    "        # Additional statistics\n",
    "        char_count = len(content)\n",
    "        digit_count = len(re.findall(r'\\d', content))\n",
    "        punctuation_count = len(re.findall(r'[^\\w\\s]', content))\n",
    "        \n",
    "        return {\n",
    "            'letter_count': letter_count,\n",
    "            'word_count': word_count,\n",
    "            'line_count': line_count,\n",
    "            'char_count': char_count,\n",
    "            'digit_count': digit_count,\n",
    "            'punctuation_count': punctuation_count,\n",
    "            'content': content\n",
    "        }\n",
    "    \n",
    "    except FileNotFoundError:\n",
    "        print(f\"Error: File {file_path} not found.\")\n",
    "        return None\n",
    "    except Exception as e:\n",
    "        print(f\"Error reading file: {e}\")\n",
    "        return None"
   ]
  },
  {
   "cell_type": "code",
   "execution_count": null,
   "id": "8f7f9af0",
   "metadata": {},
   "outputs": [
    {
     "name": "stdout",
     "output_type": "stream",
     "text": [
      "📊 File Analysis Results:\n",
      "========================================\n",
      "Number of Latin alphabet letters: 236\n",
      "Number of words: 47\n",
      "Number of lines: 6\n",
      "Total characters: 308\n",
      "Digits: 6\n",
      "Punctuation marks: 6\n",
      "Average word length: 5.02 letters\n",
      "Average words per line: 7.83\n"
     ]
    }
   ],
   "source": [
    "file_path = Path(\"data\", \"file.txt\")\n",
    "results = analyze_text_file(file_path)\n",
    "\n",
    "if results:\n",
    "    print(\"📊 File Analysis Results:\")\n",
    "    print(\"=\" * 40)\n",
    "    print(f\"Number of Latin alphabet letters: {results['letter_count']}\")\n",
    "    print(f\"Number of words: {results['word_count']}\")\n",
    "    print(f\"Number of lines: {results['line_count']}\")\n",
    "    print(f\"Total characters: {results['char_count']}\")\n",
    "    print(f\"Digits: {results['digit_count']}\")\n",
    "    print(f\"Punctuation marks: {results['punctuation_count']}\")\n",
    "    \n",
    "    # Calculate average word length\n",
    "    avg_word_length = results['letter_count'] / results['word_count'] if results['word_count'] > 0 else 0\n",
    "    print(f\"Average word length: {avg_word_length:.2f} letters\")\n",
    "    \n",
    "    # Calculate average words per line\n",
    "    avg_words_per_line = results['word_count'] / results['line_count'] if results['line_count'] > 0 else 0\n",
    "    print(f\"Average words per line: {avg_words_per_line:.2f}\")"
   ]
  },
  {
   "cell_type": "markdown",
   "id": "634b0334",
   "metadata": {},
   "source": [
    "### Display the file content with line numbers"
   ]
  },
  {
   "cell_type": "code",
   "execution_count": null,
   "id": "24c9913f",
   "metadata": {},
   "outputs": [
    {
     "name": "stdout",
     "output_type": "stream",
     "text": [
      "\n",
      "📄 File Content with Line Numbers:\n",
      "==================================================\n",
      " 1: Python is known !! 4545 for its simplicity and ease of use,\n",
      " 2: which makes it an ideal language for beginners.\n",
      " 3: It has a straightforward syntax and requires less\n",
      " 4: code than other programming languages, 23 ттт\n",
      " 5: which means that developers питон can focus on solving \n",
      " 6: problems rather than writing long lines of code.\n"
     ]
    }
   ],
   "source": [
    "if results:\n",
    "    print(\"\\n📄 File Content with Line Numbers:\")\n",
    "    print(\"=\" * 50)\n",
    "    \n",
    "    lines = results['content'].split('\\n')\n",
    "    for i, line in enumerate(lines, 1):\n",
    "        print(f\"{i:2d}: {line}\")"
   ]
  }
 ],
 "metadata": {
  "kernelspec": {
   "display_name": ".venv",
   "language": "python",
   "name": "python3"
  },
  "language_info": {
   "codemirror_mode": {
    "name": "ipython",
    "version": 3
   },
   "file_extension": ".py",
   "mimetype": "text/x-python",
   "name": "python",
   "nbconvert_exporter": "python",
   "pygments_lexer": "ipython3",
   "version": "3.12.3"
  }
 },
 "nbformat": 4,
 "nbformat_minor": 5
}
