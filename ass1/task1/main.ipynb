{
 "cells": [
  {
   "cell_type": "code",
   "execution_count": 1,
   "id": "ea09afa7",
   "metadata": {},
   "outputs": [],
   "source": [
    "import os\n",
    "import json\n",
    "from pathlib import Path\n",
    "from datetime import datetime\n",
    "import zipfile\n",
    "import pandas as pd"
   ]
  },
  {
   "cell_type": "markdown",
   "id": "782a2808",
   "metadata": {},
   "source": [
    "### Create the project directory structure"
   ]
  },
  {
   "cell_type": "code",
   "execution_count": 2,
   "id": "0250af34",
   "metadata": {},
   "outputs": [],
   "source": [
    "project_dir = Path(\"project\")\n",
    "data_dir = project_dir / \"data\"\n",
    "results_dir = project_dir / \"results\"\n",
    "\n",
    "data_dir.mkdir(parents=True, exist_ok=True)\n",
    "results_dir.mkdir(parents=True, exist_ok=True)\n",
    "\n",
    "students_file = data_dir / \"students.csv\"\n",
    "report_file = results_dir / \"report.json\"\n",
    "archive_file = project_dir / \"results.zip\""
   ]
  },
  {
   "cell_type": "markdown",
   "id": "ea74c23c",
   "metadata": {},
   "source": [
    "### Count Average Grade for each Student"
   ]
  },
  {
   "cell_type": "code",
   "execution_count": 3,
   "id": "b655f1a7",
   "metadata": {},
   "outputs": [
    {
     "name": "stdout",
     "output_type": "stream",
     "text": [
      "✅ Average grade calculated for each student\n"
     ]
    }
   ],
   "source": [
    "df = pd.read_csv(students_file)\n",
    "\n",
    "subjects = ['math','physics','cs','history','english']\n",
    "\n",
    "df['average'] = df[subjects].mean(axis=1).round(2)\n",
    "\n",
    "print(\"✅ Average grade calculated for each student\")"
   ]
  },
  {
   "cell_type": "markdown",
   "id": "d9e1e79a",
   "metadata": {},
   "source": [
    "### Create JSON formated Report (if exist, need confirmation)"
   ]
  },
  {
   "cell_type": "code",
   "execution_count": 4,
   "id": "b6235ba9",
   "metadata": {},
   "outputs": [
    {
     "name": "stdout",
     "output_type": "stream",
     "text": [
      "Report file already exists!\n",
      "Operation canceled.\n"
     ]
    }
   ],
   "source": [
    "if report_file.exists():\n",
    "    print(\"Report file already exists!\")\n",
    "    confirm = input(\"Do you want to overwrite it? (y/n): \")\n",
    "    if confirm.lower() != \"y\":\n",
    "        print(\"Operation canceled.\")\n",
    "    else:\n",
    "        with open(report_file, 'w', encoding='utf-8') as f:\n",
    "            json.dump(df.to_dict('records'), f, indent=4)\n",
    "        \n",
    "        print(f\"✅ Results saved to {report_file}\")\n",
    "else:\n",
    "    students_json = df.to_dict('records')\n",
    "    \n",
    "    with open(report_file, 'w', encoding='utf-8') as f:\n",
    "        json.dump(students_json, f, indent=4)\n",
    "    \n",
    "    print(f\"✅ Results saved to {report_file}\")"
   ]
  },
  {
   "cell_type": "markdown",
   "id": "40912b56",
   "metadata": {},
   "source": [
    "### Archive Result Directory"
   ]
  },
  {
   "cell_type": "code",
   "execution_count": 5,
   "id": "d02c8223",
   "metadata": {},
   "outputs": [
    {
     "name": "stdout",
     "output_type": "stream",
     "text": [
      "✅ Archive created: /home/hacker/aitu/pfa/ass1/task1/project/results.zip\n"
     ]
    }
   ],
   "source": [
    "with zipfile.ZipFile(archive_file, 'w', zipfile.ZIP_DEFLATED) as zipf:\n",
    "    for file in results_dir.rglob('*'):\n",
    "        zipf.write(file, file.relative_to(project_dir))\n",
    "\n",
    "print(f\"✅ Archive created: {archive_file.absolute()}\")"
   ]
  },
  {
   "cell_type": "markdown",
   "id": "0eba3b54",
   "metadata": {},
   "source": [
    "### Information about Report file (if exist)"
   ]
  },
  {
   "cell_type": "code",
   "execution_count": 6,
   "id": "8ec866af",
   "metadata": {},
   "outputs": [
    {
     "name": "stdout",
     "output_type": "stream",
     "text": [
      "📄 Report.json info:\n",
      "   - Size: 32018 bytes\n",
      "   - Last modified: 2025-10-23 15:52:33.200117\n"
     ]
    }
   ],
   "source": [
    "if report_file.exists():\n",
    "    size = report_file.stat().st_size\n",
    "    mtime = datetime.fromtimestamp(report_file.stat().st_mtime)\n",
    "    print(f\"📄 Report.json info:\")\n",
    "    print(f\"   - Size: {size} bytes\")\n",
    "    print(f\"   - Last modified: {mtime}\")\n",
    "else:\n",
    "    print(\"❌ Report.json does not exist\")"
   ]
  },
  {
   "cell_type": "markdown",
   "id": "1f47e60d",
   "metadata": {},
   "source": [
    "### Summary"
   ]
  },
  {
   "cell_type": "code",
   "execution_count": 7,
   "id": "235ddbba",
   "metadata": {},
   "outputs": [
    {
     "name": "stdout",
     "output_type": "stream",
     "text": [
      "🎯 Task Completion Summary:\n",
      "1. Project structure created: ✓\n",
      "2. students.csv readed: ✓\n",
      "3. Averages calculated: ✓\n",
      "4. Results saved to JSON: ✓\n",
      "5. Archive created: ✓\n",
      "6. Report.json checked: ✓\n",
      "\n",
      "📊 Data Summary:\n",
      "   - Number of students: 150\n",
      "   - Highest average: 88.20\n",
      "   - Lowest average: 65.80\n",
      "   - Overall average: 78.23\n"
     ]
    }
   ],
   "source": [
    "print(\"🎯 Task Completion Summary:\")\n",
    "print(f\"1. Project structure created: ✓\")\n",
    "print(f\"2. students.csv readed: ✓\")\n",
    "print(f\"3. Averages calculated: ✓\")\n",
    "print(f\"4. Results saved to JSON: {'✓' if report_file.exists() else '✗'}\")\n",
    "print(f\"5. Archive created: {'✓' if archive_file.exists() else '✗'}\")\n",
    "print(f\"6. Report.json checked: {'✓' if report_file.exists() else '✗'}\")\n",
    "\n",
    "if report_file.exists():\n",
    "    print(\"\\n📊 Data Summary:\")\n",
    "    print(f\"   - Number of students: {len(df)}\")\n",
    "    print(f\"   - Highest average: {df['average'].max():.2f}\")\n",
    "    print(f\"   - Lowest average: {df['average'].min():.2f}\")\n",
    "    print(f\"   - Overall average: {df['average'].mean():.2f}\")"
   ]
  }
 ],
 "metadata": {
  "kernelspec": {
   "display_name": ".venv",
   "language": "python",
   "name": "python3"
  },
  "language_info": {
   "codemirror_mode": {
    "name": "ipython",
    "version": 3
   },
   "file_extension": ".py",
   "mimetype": "text/x-python",
   "name": "python",
   "nbconvert_exporter": "python",
   "pygments_lexer": "ipython3",
   "version": "3.12.3"
  }
 },
 "nbformat": 4,
 "nbformat_minor": 5
}
