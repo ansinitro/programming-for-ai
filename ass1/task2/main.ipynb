{
 "cells": [
  {
   "cell_type": "code",
   "execution_count": 5,
   "id": "d8fb5ffe",
   "metadata": {},
   "outputs": [],
   "source": [
    "import os\n",
    "from pathlib import Path"
   ]
  },
  {
   "cell_type": "markdown",
   "id": "ce2bf6a2",
   "metadata": {},
   "source": [
    "### Create text files with sample content"
   ]
  },
  {
   "cell_type": "code",
   "execution_count": 6,
   "id": "06aa4235",
   "metadata": {},
   "outputs": [
    {
     "name": "stdout",
     "output_type": "stream",
     "text": [
      "Created: mathematics.txt\n",
      "Created: physics.txt\n",
      "Created: computer_science.txt\n",
      "Created: history.txt\n",
      "Created: literature.txt\n",
      "\n",
      "All text files have been created in the 'text_files' directory.\n"
     ]
    }
   ],
   "source": [
    "text_files_dir = Path(\"data\")\n",
    "text_files_dir.mkdir(exist_ok=True)\n",
    "\n",
    "file_contents = {\n",
    "    \"mathematics.txt\": \"\"\"Mathematics is the study of numbers, shapes, and patterns.\n",
    "It includes topics like algebra, calculus, and geometry.\n",
    "Many students find probability theory challenging but interesting.\n",
    "Mathematics is fundamental to many scientific disciplines.\"\"\",\n",
    "    \n",
    "    \"physics.txt\": \"\"\"Physics is the natural science that studies matter, its motion, and behavior through space and time.\n",
    "It includes concepts like quantum mechanics, relativity, and thermodynamics.\n",
    "Physics often uses mathematical models to describe natural phenomena.\n",
    "Understanding physics requires knowledge of mathematics.\"\"\",\n",
    "    \n",
    "    \"computer_science.txt\": \"\"\"Computer science is the study of computers and computational systems.\n",
    "It includes algorithms, data structures, programming, and artificial intelligence.\n",
    "Computer science relies heavily on mathematics, especially discrete mathematics.\n",
    "Probability theory is important for machine learning algorithms.\"\"\",\n",
    "    \n",
    "    \"history.txt\": \"\"\"History is the study of past events, particularly in human affairs.\n",
    "It covers ancient civilizations, wars, and cultural developments.\n",
    "The history of mathematics dates back to ancient times.\n",
    "Historical research methods differ from scientific methods.\"\"\",\n",
    "    \n",
    "    \"literature.txt\": \"\"\"Literature refers to written works, especially those considered of superior or lasting artistic merit.\n",
    "It includes poetry, novels, plays, and short stories.\n",
    "Some literature explores mathematical concepts, like in works about probability theory.\n",
    "Literature reflects the culture and time period in which it was written.\"\"\"\n",
    "}\n",
    "\n",
    "# Create the text files\n",
    "for filename, content in file_contents.items():\n",
    "    file_path = text_files_dir / filename\n",
    "    with open(file_path, 'w', encoding='utf-8') as f:\n",
    "        f.write(content)\n",
    "    print(f\"Created: {filename}\")\n",
    "\n",
    "print(\"\\nAll text files have been created in the 'text_files' directory.\")"
   ]
  },
  {
   "cell_type": "markdown",
   "id": "e5ee99f5",
   "metadata": {},
   "source": [
    "### Function to search for a query in text files"
   ]
  },
  {
   "cell_type": "code",
   "execution_count": 7,
   "id": "a28bf22a",
   "metadata": {},
   "outputs": [],
   "source": [
    "def search_in_files(query):\n",
    "    \"\"\"\n",
    "    Search for a query string in all text files in the text_files directory.\n",
    "    Returns a list of filenames that contain the query.\n",
    "    \"\"\"\n",
    "    matching_files = []\n",
    "    \n",
    "    if not text_files_dir.exists():\n",
    "        print(f\"Directory '{text_files_dir}' does not exist.\")\n",
    "        return matching_files\n",
    "    \n",
    "    for file_path in text_files_dir.glob(\"*.txt\"):\n",
    "        try:\n",
    "            with open(file_path, 'r', encoding='utf-8') as f:\n",
    "                content = f.read()\n",
    "                if query.lower() in content.lower():\n",
    "                    matching_files.append(file_path.name)\n",
    "        except Exception as e:\n",
    "            print(f\"Error reading file {file_path}: {e}\")\n",
    "    \n",
    "    return matching_files"
   ]
  },
  {
   "cell_type": "markdown",
   "id": "eab7a657",
   "metadata": {},
   "source": [
    "### Get user input and perform search"
   ]
  },
  {
   "cell_type": "code",
   "execution_count": 8,
   "id": "8e317193",
   "metadata": {},
   "outputs": [
    {
     "name": "stdout",
     "output_type": "stream",
     "text": [
      "\n",
      "Found 'math' in the following files:\n",
      "  - literature.txt\n",
      "  - history.txt\n",
      "  - mathematics.txt\n",
      "  - physics.txt\n",
      "  - computer_science.txt\n"
     ]
    }
   ],
   "source": [
    "search_query = input(\"Enter your search query (word or phrase): \")\n",
    "\n",
    "results = search_in_files(search_query)\n",
    "\n",
    "if results:\n",
    "    print(f\"\\nFound '{search_query}' in the following files:\")\n",
    "    for file in results:\n",
    "        print(f\"  - {file}\")\n",
    "else:\n",
    "    print(f\"\\nThe search query '{search_query}' was not found in any text files.\")"
   ]
  }
 ],
 "metadata": {
  "kernelspec": {
   "display_name": ".venv",
   "language": "python",
   "name": "python3"
  },
  "language_info": {
   "codemirror_mode": {
    "name": "ipython",
    "version": 3
   },
   "file_extension": ".py",
   "mimetype": "text/x-python",
   "name": "python",
   "nbconvert_exporter": "python",
   "pygments_lexer": "ipython3",
   "version": "3.12.3"
  }
 },
 "nbformat": 4,
 "nbformat_minor": 5
}
